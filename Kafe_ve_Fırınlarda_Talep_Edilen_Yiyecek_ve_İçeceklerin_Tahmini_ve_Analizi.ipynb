{
  "nbformat": 4,
  "nbformat_minor": 0,
  "metadata": {
    "colab": {
      "name": "Kafe ve Fırınlarda Talep Edilen Yiyecek ve İçeceklerin Tahmini ve Analizi.ipynb ",
      "provenance": [],
      "collapsed_sections": [
        "w5fQxoGEGGMG",
        "ZzgkUHQvJOOK",
        "XdH4aKwJJYw0",
        "IR3oa_qXpEtB",
        "kcrT6IhhOsPe",
        "aNl4l206J3Mk"
      ]
    },
    "kernelspec": {
      "display_name": "Python 3",
      "name": "python3"
    },
    "language_info": {
      "name": "python"
    }
  },
  "cells": [
    {
      "cell_type": "markdown",
      "metadata": {
        "id": "w5fQxoGEGGMG"
      },
      "source": [
        "# **KAFE ve FIRINLARDA TALEP EDİLEN YİYECEK ve İÇECEK TAHMİNİ**"
      ]
    },
    {
      "cell_type": "code",
      "metadata": {
        "id": "AtFDNZBdi2wV"
      },
      "source": [
        "import numpy as np \n",
        "import pandas as pd\n",
        "import matplotlib.pyplot as plt \n",
        "import seaborn as sns\n",
        "from datetime import datetime "
      ],
      "execution_count": null,
      "outputs": []
    },
    {
      "cell_type": "code",
      "metadata": {
        "colab": {
          "base_uri": "https://localhost:8080/",
          "height": 414
        },
        "id": "JPQB3kX4jgP8",
        "outputId": "318107d7-2711-4eac-c49e-973352348d5b"
      },
      "source": [
        "data = pd.read_csv(\"BreadBasket_DMS.csv\")\n",
        "data"
      ],
      "execution_count": null,
      "outputs": [
        {
          "output_type": "execute_result",
          "data": {
            "text/html": [
              "<div>\n",
              "<style scoped>\n",
              "    .dataframe tbody tr th:only-of-type {\n",
              "        vertical-align: middle;\n",
              "    }\n",
              "\n",
              "    .dataframe tbody tr th {\n",
              "        vertical-align: top;\n",
              "    }\n",
              "\n",
              "    .dataframe thead th {\n",
              "        text-align: right;\n",
              "    }\n",
              "</style>\n",
              "<table border=\"1\" class=\"dataframe\">\n",
              "  <thead>\n",
              "    <tr style=\"text-align: right;\">\n",
              "      <th></th>\n",
              "      <th>Date</th>\n",
              "      <th>Time</th>\n",
              "      <th>Transaction</th>\n",
              "      <th>Item</th>\n",
              "    </tr>\n",
              "  </thead>\n",
              "  <tbody>\n",
              "    <tr>\n",
              "      <th>0</th>\n",
              "      <td>2016-10-30</td>\n",
              "      <td>09:58:11</td>\n",
              "      <td>1</td>\n",
              "      <td>Bread</td>\n",
              "    </tr>\n",
              "    <tr>\n",
              "      <th>1</th>\n",
              "      <td>2016-10-30</td>\n",
              "      <td>10:05:34</td>\n",
              "      <td>2</td>\n",
              "      <td>Scandinavian</td>\n",
              "    </tr>\n",
              "    <tr>\n",
              "      <th>2</th>\n",
              "      <td>2016-10-30</td>\n",
              "      <td>10:05:34</td>\n",
              "      <td>2</td>\n",
              "      <td>Scandinavian</td>\n",
              "    </tr>\n",
              "    <tr>\n",
              "      <th>3</th>\n",
              "      <td>2016-10-30</td>\n",
              "      <td>10:07:57</td>\n",
              "      <td>3</td>\n",
              "      <td>Hot chocolate</td>\n",
              "    </tr>\n",
              "    <tr>\n",
              "      <th>4</th>\n",
              "      <td>2016-10-30</td>\n",
              "      <td>10:07:57</td>\n",
              "      <td>3</td>\n",
              "      <td>Jam</td>\n",
              "    </tr>\n",
              "    <tr>\n",
              "      <th>...</th>\n",
              "      <td>...</td>\n",
              "      <td>...</td>\n",
              "      <td>...</td>\n",
              "      <td>...</td>\n",
              "    </tr>\n",
              "    <tr>\n",
              "      <th>21288</th>\n",
              "      <td>2017-04-09</td>\n",
              "      <td>14:32:58</td>\n",
              "      <td>9682</td>\n",
              "      <td>Coffee</td>\n",
              "    </tr>\n",
              "    <tr>\n",
              "      <th>21289</th>\n",
              "      <td>2017-04-09</td>\n",
              "      <td>14:32:58</td>\n",
              "      <td>9682</td>\n",
              "      <td>Tea</td>\n",
              "    </tr>\n",
              "    <tr>\n",
              "      <th>21290</th>\n",
              "      <td>2017-04-09</td>\n",
              "      <td>14:57:06</td>\n",
              "      <td>9683</td>\n",
              "      <td>Coffee</td>\n",
              "    </tr>\n",
              "    <tr>\n",
              "      <th>21291</th>\n",
              "      <td>2017-04-09</td>\n",
              "      <td>14:57:06</td>\n",
              "      <td>9683</td>\n",
              "      <td>Pastry</td>\n",
              "    </tr>\n",
              "    <tr>\n",
              "      <th>21292</th>\n",
              "      <td>2017-04-09</td>\n",
              "      <td>15:04:24</td>\n",
              "      <td>9684</td>\n",
              "      <td>Smoothies</td>\n",
              "    </tr>\n",
              "  </tbody>\n",
              "</table>\n",
              "<p>21293 rows × 4 columns</p>\n",
              "</div>"
            ],
            "text/plain": [
              "             Date      Time  Transaction           Item\n",
              "0      2016-10-30  09:58:11            1          Bread\n",
              "1      2016-10-30  10:05:34            2   Scandinavian\n",
              "2      2016-10-30  10:05:34            2   Scandinavian\n",
              "3      2016-10-30  10:07:57            3  Hot chocolate\n",
              "4      2016-10-30  10:07:57            3            Jam\n",
              "...           ...       ...          ...            ...\n",
              "21288  2017-04-09  14:32:58         9682         Coffee\n",
              "21289  2017-04-09  14:32:58         9682            Tea\n",
              "21290  2017-04-09  14:57:06         9683         Coffee\n",
              "21291  2017-04-09  14:57:06         9683         Pastry\n",
              "21292  2017-04-09  15:04:24         9684      Smoothies\n",
              "\n",
              "[21293 rows x 4 columns]"
            ]
          },
          "metadata": {
            "tags": []
          },
          "execution_count": 3
        }
      ]
    },
    {
      "cell_type": "code",
      "metadata": {
        "colab": {
          "base_uri": "https://localhost:8080/"
        },
        "id": "HTKD6uo1rLph",
        "outputId": "40fd09f8-e571-4300-8c9b-c6977ad74232"
      },
      "source": [
        "data.shape"
      ],
      "execution_count": null,
      "outputs": [
        {
          "output_type": "execute_result",
          "data": {
            "text/plain": [
              "(21293, 4)"
            ]
          },
          "metadata": {
            "tags": []
          },
          "execution_count": 4
        }
      ]
    },
    {
      "cell_type": "code",
      "metadata": {
        "id": "093NxRISpbQ8"
      },
      "source": [
        "data = data.drop(data[data.Item == 'NONE'].index)"
      ],
      "execution_count": null,
      "outputs": []
    },
    {
      "cell_type": "code",
      "metadata": {
        "colab": {
          "base_uri": "https://localhost:8080/"
        },
        "id": "e8uE5_OLp4gR",
        "outputId": "e68f82ae-4b3a-4297-ff49-060bcf4e70be"
      },
      "source": [
        "x = data['Item'] == \"NONE\"\n",
        "print(x.value_counts())"
      ],
      "execution_count": null,
      "outputs": [
        {
          "output_type": "stream",
          "text": [
            "False    20507\n",
            "Name: Item, dtype: int64\n"
          ],
          "name": "stdout"
        }
      ]
    },
    {
      "cell_type": "markdown",
      "metadata": {
        "id": "ZzgkUHQvJOOK"
      },
      "source": [
        "# **Ürünlerin Satın Alınma Miktarı ve Oranları**"
      ]
    },
    {
      "cell_type": "code",
      "metadata": {
        "colab": {
          "base_uri": "https://localhost:8080/",
          "height": 663
        },
        "id": "jLSQ882aQRbP",
        "outputId": "73d38054-eb4d-4512-bd0c-07c442640ebd"
      },
      "source": [
        "fig = plt.figure(figsize=(25,10))\n",
        "\n",
        "yiyecek_sayisi = data['Item'].value_counts()\n",
        "yiyecek_sayisi[:20].plot(kind='bar',color='purple')\n",
        "\n",
        "plt.xlabel('Ürünler',fontsize=20)\n",
        "plt.ylabel('Satış miktarı',fontsize=17)\n",
        "plt.title('En çok satılan 20 ürün',fontsize=20)\n",
        "plt.grid()"
      ],
      "execution_count": null,
      "outputs": [
        {
          "output_type": "display_data",
          "data": {
            "image/png": "[encoded data removed]",
            "text/plain": [
              "<Figure size 1800x720 with 1 Axes>"
            ]
          },
          "metadata": {
            "tags": [],
            "needs_background": "light"
          }
        }
      ]
    },
    {
      "cell_type": "code",
      "metadata": {
        "colab": {
          "base_uri": "https://localhost:8080/"
        },
        "id": "Gfix6_gQYU3Z",
        "outputId": "34b3d623-42f6-4cfd-a963-1b910ac48a52"
      },
      "source": [
        "yiyecek_sayisi.head(20)"
      ],
      "execution_count": null,
      "outputs": [
        {
          "output_type": "execute_result",
          "data": {
            "text/plain": [
              "Coffee           5471\n",
              "Bread            3325\n",
              "Tea              1435\n",
              "Cake             1025\n",
              "Pastry            856\n",
              "Sandwich          771\n",
              "Medialuna         616\n",
              "Hot chocolate     590\n",
              "Cookies           540\n",
              "Brownie           379\n",
              "Farm House        374\n",
              "Muffin            370\n",
              "Juice             369\n",
              "Alfajores         369\n",
              "Soup              342\n",
              "Scone             327\n",
              "Toast             318\n",
              "Scandinavian      277\n",
              "Truffles          193\n",
              "Coke              185\n",
              "Name: Item, dtype: int64"
            ]
          },
          "metadata": {
            "tags": []
          },
          "execution_count": 108
        }
      ]
    },
    {
      "cell_type": "code",
      "metadata": {
        "colab": {
          "base_uri": "https://localhost:8080/",
          "height": 722
        },
        "id": "TcwAjIInDZvx",
        "outputId": "176ad40d-aace-4bda-a976-8f87d6b8e808"
      },
      "source": [
        "yiyecek_sayisi[:10].plot.pie(y='Item',autopct='%1.1f%%',figsize=(12,12),ylabel='')\n",
        "plt.title('En çok satılan 10 ürün ve yüzdesel gösterimi',fontsize=22)"
      ],
      "execution_count": null,
      "outputs": [
        {
          "output_type": "execute_result",
          "data": {
            "text/plain": [
              "Text(0.5, 1.0, 'En çok satılan 10 ürün ve yüzdesel gösterimi')"
            ]
          },
          "metadata": {
            "tags": []
          },
          "execution_count": 109
        },
        {
          "output_type": "display_data",
          "data": {
            "image/png": "[encoded data removed]",
            "text/plain": [
              "<Figure size 864x864 with 1 Axes>"
            ]
          },
          "metadata": {
            "tags": []
          }
        }
      ]
    },
    {
      "cell_type": "markdown",
      "metadata": {
        "id": "XdH4aKwJJYw0"
      },
      "source": [
        "# **Tüm Ürünlerin Saatlik, Günlük, Haftalık ve Aylık Genel Satış Analizi**"
      ]
    },
    {
      "cell_type": "code",
      "metadata": {
        "colab": {
          "base_uri": "https://localhost:8080/"
        },
        "id": "nJFSxlJflL3Y",
        "outputId": "ecc78aeb-6056-43be-c82b-820dc651d960"
      },
      "source": [
        "data['datetime'] = pd.to_datetime(data['Date']+\" \"+data['Time'])\n",
        "data['Hafta'] = data['datetime'].dt.week\n",
        "data['Ay'] = data['datetime'].dt.month\n",
        "data['Hafta Günü'] = data['datetime'].dt.weekday+1\n",
        "data['Saat'] = data['datetime'].dt.hour"
      ],
      "execution_count": null,
      "outputs": [
        {
          "output_type": "stream",
          "text": [
            "/usr/local/lib/python3.7/dist-packages/ipykernel_launcher.py:2: FutureWarning: Series.dt.weekofyear and Series.dt.week have been deprecated.  Please use Series.dt.isocalendar().week instead.\n",
            "  \n"
          ],
          "name": "stderr"
        }
      ]
    },
    {
      "cell_type": "code",
      "metadata": {
        "colab": {
          "base_uri": "https://localhost:8080/",
          "height": 414
        },
        "id": "n7yq949ySE3k",
        "outputId": "dd5a2405-16a2-47b0-b691-36dd87d93ae0"
      },
      "source": [
        "zaman=data[['Date', 'Ay','Hafta', 'Hafta Günü','Saat']]\n",
        "zaman"
      ],
      "execution_count": null,
      "outputs": [
        {
          "output_type": "execute_result",
          "data": {
            "text/html": [
              "<div>\n",
              "<style scoped>\n",
              "    .dataframe tbody tr th:only-of-type {\n",
              "        vertical-align: middle;\n",
              "    }\n",
              "\n",
              "    .dataframe tbody tr th {\n",
              "        vertical-align: top;\n",
              "    }\n",
              "\n",
              "    .dataframe thead th {\n",
              "        text-align: right;\n",
              "    }\n",
              "</style>\n",
              "<table border=\"1\" class=\"dataframe\">\n",
              "  <thead>\n",
              "    <tr style=\"text-align: right;\">\n",
              "      <th></th>\n",
              "      <th>Date</th>\n",
              "      <th>Ay</th>\n",
              "      <th>Hafta</th>\n",
              "      <th>Hafta Günü</th>\n",
              "      <th>Saat</th>\n",
              "    </tr>\n",
              "  </thead>\n",
              "  <tbody>\n",
              "    <tr>\n",
              "      <th>0</th>\n",
              "      <td>2016-10-30</td>\n",
              "      <td>10</td>\n",
              "      <td>43</td>\n",
              "      <td>7</td>\n",
              "      <td>9</td>\n",
              "    </tr>\n",
              "    <tr>\n",
              "      <th>1</th>\n",
              "      <td>2016-10-30</td>\n",
              "      <td>10</td>\n",
              "      <td>43</td>\n",
              "      <td>7</td>\n",
              "      <td>10</td>\n",
              "    </tr>\n",
              "    <tr>\n",
              "      <th>2</th>\n",
              "      <td>2016-10-30</td>\n",
              "      <td>10</td>\n",
              "      <td>43</td>\n",
              "      <td>7</td>\n",
              "      <td>10</td>\n",
              "    </tr>\n",
              "    <tr>\n",
              "      <th>3</th>\n",
              "      <td>2016-10-30</td>\n",
              "      <td>10</td>\n",
              "      <td>43</td>\n",
              "      <td>7</td>\n",
              "      <td>10</td>\n",
              "    </tr>\n",
              "    <tr>\n",
              "      <th>4</th>\n",
              "      <td>2016-10-30</td>\n",
              "      <td>10</td>\n",
              "      <td>43</td>\n",
              "      <td>7</td>\n",
              "      <td>10</td>\n",
              "    </tr>\n",
              "    <tr>\n",
              "      <th>...</th>\n",
              "      <td>...</td>\n",
              "      <td>...</td>\n",
              "      <td>...</td>\n",
              "      <td>...</td>\n",
              "      <td>...</td>\n",
              "    </tr>\n",
              "    <tr>\n",
              "      <th>21288</th>\n",
              "      <td>2017-04-09</td>\n",
              "      <td>4</td>\n",
              "      <td>14</td>\n",
              "      <td>7</td>\n",
              "      <td>14</td>\n",
              "    </tr>\n",
              "    <tr>\n",
              "      <th>21289</th>\n",
              "      <td>2017-04-09</td>\n",
              "      <td>4</td>\n",
              "      <td>14</td>\n",
              "      <td>7</td>\n",
              "      <td>14</td>\n",
              "    </tr>\n",
              "    <tr>\n",
              "      <th>21290</th>\n",
              "      <td>2017-04-09</td>\n",
              "      <td>4</td>\n",
              "      <td>14</td>\n",
              "      <td>7</td>\n",
              "      <td>14</td>\n",
              "    </tr>\n",
              "    <tr>\n",
              "      <th>21291</th>\n",
              "      <td>2017-04-09</td>\n",
              "      <td>4</td>\n",
              "      <td>14</td>\n",
              "      <td>7</td>\n",
              "      <td>14</td>\n",
              "    </tr>\n",
              "    <tr>\n",
              "      <th>21292</th>\n",
              "      <td>2017-04-09</td>\n",
              "      <td>4</td>\n",
              "      <td>14</td>\n",
              "      <td>7</td>\n",
              "      <td>15</td>\n",
              "    </tr>\n",
              "  </tbody>\n",
              "</table>\n",
              "<p>20507 rows × 5 columns</p>\n",
              "</div>"
            ],
            "text/plain": [
              "             Date  Ay  Hafta  Hafta Günü  Saat\n",
              "0      2016-10-30  10     43           7     9\n",
              "1      2016-10-30  10     43           7    10\n",
              "2      2016-10-30  10     43           7    10\n",
              "3      2016-10-30  10     43           7    10\n",
              "4      2016-10-30  10     43           7    10\n",
              "...           ...  ..    ...         ...   ...\n",
              "21288  2017-04-09   4     14           7    14\n",
              "21289  2017-04-09   4     14           7    14\n",
              "21290  2017-04-09   4     14           7    14\n",
              "21291  2017-04-09   4     14           7    14\n",
              "21292  2017-04-09   4     14           7    15\n",
              "\n",
              "[20507 rows x 5 columns]"
            ]
          },
          "metadata": {
            "tags": []
          },
          "execution_count": 94
        }
      ]
    },
    {
      "cell_type": "markdown",
      "metadata": {
        "id": "IueYdn1RT3VR"
      },
      "source": [
        "- Projemizin İlerleyen dönemlerinde hafta günlerinin ve saatlerin detaylı analizini yaparak hangi saatlerde ne kadar müşteri geldiğinin analizini yapıp işgücü optimizasyonu sağlayıp gün yoğunluğuna göre eleman çalıştıracağız"
      ]
    },
    {
      "cell_type": "code",
      "metadata": {
        "colab": {
          "base_uri": "https://localhost:8080/",
          "height": 296
        },
        "id": "fFCTEWNj-ami",
        "outputId": "f6337aa9-2341-4e0f-cba4-1ed811ea5953"
      },
      "source": [
        "sns.countplot(x='Ay',data=zaman)"
      ],
      "execution_count": null,
      "outputs": [
        {
          "output_type": "execute_result",
          "data": {
            "text/plain": [
              "<matplotlib.axes._subplots.AxesSubplot at 0x7fdaeff20690>"
            ]
          },
          "metadata": {
            "tags": []
          },
          "execution_count": 95
        },
        {
          "output_type": "display_data",
          "data": {
            "image/png": "[encoded data removed]",
            "text/plain": [
              "<Figure size 432x288 with 1 Axes>"
            ]
          },
          "metadata": {
            "tags": [],
            "needs_background": "light"
          }
        }
      ]
    },
    {
      "cell_type": "markdown",
      "metadata": {
        "id": "KxeMIa1v_N2K"
      },
      "source": [
        "- **Kış aylarında yaz aylarına göre daha fazla satış yapılıyor ve satışlarda aylık düşüş ve yükseliş nedenleri araştırılabilir**"
      ]
    },
    {
      "cell_type": "code",
      "metadata": {
        "colab": {
          "base_uri": "https://localhost:8080/",
          "height": 296
        },
        "id": "gJRea2FQSKb3",
        "outputId": "ec9b3710-5a2c-4c33-9bf1-3e83e37be3b0"
      },
      "source": [
        "sns.countplot(x='Hafta Günü',data=zaman)"
      ],
      "execution_count": null,
      "outputs": [
        {
          "output_type": "execute_result",
          "data": {
            "text/plain": [
              "<matplotlib.axes._subplots.AxesSubplot at 0x7fdaf0933c10>"
            ]
          },
          "metadata": {
            "tags": []
          },
          "execution_count": 75
        },
        {
          "output_type": "display_data",
          "data": {
            "image/png": "[encoded data removed]",
            "text/plain": [
              "<Figure size 432x288 with 1 Axes>"
            ]
          },
          "metadata": {
            "tags": [],
            "needs_background": "light"
          }
        }
      ]
    },
    {
      "cell_type": "markdown",
      "metadata": {
        "id": "hHOBo6Ax_a5b"
      },
      "source": [
        "- **Cumartesi günleri diğer günlere göre daha fazla satış yapılıyor ve satışlarda günlük satış değerlerinin neden artıp azaldığının analizi yapılabilir**"
      ]
    },
    {
      "cell_type": "code",
      "metadata": {
        "colab": {
          "base_uri": "https://localhost:8080/",
          "height": 296
        },
        "id": "QdmY4Gz0TAwI",
        "outputId": "7bcf0337-c6af-4faa-ae1f-0c09b0bffa75"
      },
      "source": [
        "sns.countplot(x='Saat',data=zaman)"
      ],
      "execution_count": null,
      "outputs": [
        {
          "output_type": "execute_result",
          "data": {
            "text/plain": [
              "<matplotlib.axes._subplots.AxesSubplot at 0x7fdaf002a9d0>"
            ]
          },
          "metadata": {
            "tags": []
          },
          "execution_count": 76
        },
        {
          "output_type": "display_data",
          "data": {
            "image/png": "[encoded data removed]",
            "text/plain": [
              "<Figure size 432x288 with 1 Axes>"
            ]
          },
          "metadata": {
            "tags": [],
            "needs_background": "light"
          }
        }
      ]
    },
    {
      "cell_type": "markdown",
      "metadata": {
        "id": "1nAqvIAH_s3b"
      },
      "source": [
        "- **Öğle saatlerinde diğer saatlere oranla daha çok satış yapılıyor**"
      ]
    },
    {
      "cell_type": "markdown",
      "metadata": {
        "id": "IR3oa_qXpEtB"
      },
      "source": [
        "# **Mevsimsel Haftalık ve Günlük Satış Analizi**"
      ]
    },
    {
      "cell_type": "code",
      "metadata": {
        "id": "Wct_s52LpGo3"
      },
      "source": [
        "tarih = [datetime.strptime(x, '%Y-%m-%d').date() for x in data['Date']]"
      ],
      "execution_count": null,
      "outputs": []
    },
    {
      "cell_type": "code",
      "metadata": {
        "id": "WqIwVcGGpLJz"
      },
      "source": [
        "zaman = [datetime.strptime(x,  '%H:%M:%S').time() for x in data['Time']]"
      ],
      "execution_count": null,
      "outputs": []
    },
    {
      "cell_type": "code",
      "metadata": {
        "id": "hYvezOgQpMfo"
      },
      "source": [
        "def day(hour):\n",
        "    if hour >= 6 and hour < 12:\n",
        "        return 'Sabah'\n",
        "    elif hour >= 12 and hour < 15:\n",
        "        return 'Öğle'\n",
        "    elif hour >= 15 and hour < 20:\n",
        "        return 'Akşam'\n",
        "    else: \n",
        "        return 'Gece'"
      ],
      "execution_count": null,
      "outputs": []
    },
    {
      "cell_type": "code",
      "metadata": {
        "id": "sxW3yXtWpONj"
      },
      "source": [
        "gun_vakitleri = [day(x.hour) for x in zaman]"
      ],
      "execution_count": null,
      "outputs": []
    },
    {
      "cell_type": "code",
      "metadata": {
        "colab": {
          "base_uri": "https://localhost:8080/"
        },
        "id": "WDyDqeEV65xC",
        "outputId": "e9eba835-7ce2-484e-ed8f-b4af3f451c7e"
      },
      "source": [
        "type(gun_vakitleri)"
      ],
      "execution_count": null,
      "outputs": [
        {
          "output_type": "execute_result",
          "data": {
            "text/plain": [
              "list"
            ]
          },
          "metadata": {
            "tags": []
          },
          "execution_count": 39
        }
      ]
    },
    {
      "cell_type": "code",
      "metadata": {
        "id": "OjfuMkCdpPo6"
      },
      "source": [
        "data['Gün Vakitleri'] = gun_vakitleri"
      ],
      "execution_count": null,
      "outputs": []
    },
    {
      "cell_type": "code",
      "metadata": {
        "id": "U4JDc457pRWN",
        "colab": {
          "base_uri": "https://localhost:8080/",
          "height": 202
        },
        "outputId": "c412dcf5-d1f2-4ee4-ca61-773886a465b1"
      },
      "source": [
        "data.head()"
      ],
      "execution_count": null,
      "outputs": [
        {
          "output_type": "execute_result",
          "data": {
            "text/html": [
              "<div>\n",
              "<style scoped>\n",
              "    .dataframe tbody tr th:only-of-type {\n",
              "        vertical-align: middle;\n",
              "    }\n",
              "\n",
              "    .dataframe tbody tr th {\n",
              "        vertical-align: top;\n",
              "    }\n",
              "\n",
              "    .dataframe thead th {\n",
              "        text-align: right;\n",
              "    }\n",
              "</style>\n",
              "<table border=\"1\" class=\"dataframe\">\n",
              "  <thead>\n",
              "    <tr style=\"text-align: right;\">\n",
              "      <th></th>\n",
              "      <th>Date</th>\n",
              "      <th>Time</th>\n",
              "      <th>Transaction</th>\n",
              "      <th>Item</th>\n",
              "      <th>Gün Vakitleri</th>\n",
              "    </tr>\n",
              "  </thead>\n",
              "  <tbody>\n",
              "    <tr>\n",
              "      <th>0</th>\n",
              "      <td>2016-10-30</td>\n",
              "      <td>09:58:11</td>\n",
              "      <td>1</td>\n",
              "      <td>Bread</td>\n",
              "      <td>Sabah</td>\n",
              "    </tr>\n",
              "    <tr>\n",
              "      <th>1</th>\n",
              "      <td>2016-10-30</td>\n",
              "      <td>10:05:34</td>\n",
              "      <td>2</td>\n",
              "      <td>Scandinavian</td>\n",
              "      <td>Sabah</td>\n",
              "    </tr>\n",
              "    <tr>\n",
              "      <th>2</th>\n",
              "      <td>2016-10-30</td>\n",
              "      <td>10:05:34</td>\n",
              "      <td>2</td>\n",
              "      <td>Scandinavian</td>\n",
              "      <td>Sabah</td>\n",
              "    </tr>\n",
              "    <tr>\n",
              "      <th>3</th>\n",
              "      <td>2016-10-30</td>\n",
              "      <td>10:07:57</td>\n",
              "      <td>3</td>\n",
              "      <td>Hot chocolate</td>\n",
              "      <td>Sabah</td>\n",
              "    </tr>\n",
              "    <tr>\n",
              "      <th>4</th>\n",
              "      <td>2016-10-30</td>\n",
              "      <td>10:07:57</td>\n",
              "      <td>3</td>\n",
              "      <td>Jam</td>\n",
              "      <td>Sabah</td>\n",
              "    </tr>\n",
              "  </tbody>\n",
              "</table>\n",
              "</div>"
            ],
            "text/plain": [
              "         Date      Time  Transaction           Item Gün Vakitleri\n",
              "0  2016-10-30  09:58:11            1          Bread         Sabah\n",
              "1  2016-10-30  10:05:34            2   Scandinavian         Sabah\n",
              "2  2016-10-30  10:05:34            2   Scandinavian         Sabah\n",
              "3  2016-10-30  10:07:57            3  Hot chocolate         Sabah\n",
              "4  2016-10-30  10:07:57            3            Jam         Sabah"
            ]
          },
          "metadata": {
            "tags": []
          },
          "execution_count": 18
        }
      ]
    },
    {
      "cell_type": "code",
      "metadata": {
        "id": "cP7_pDhLpRTP"
      },
      "source": [
        "# Öğeleri günün saatine göre gruplandıralım ve sayalım\n",
        "gunleri_say = data.groupby(['Gün Vakitleri','Item'])['Item'].agg('count')\n",
        "\n",
        "sabah = gunleri_say.loc['Sabah'].sort_values(ascending=False)[:6]\n",
        "ogle = gunleri_say.loc['Öğle'].sort_values(ascending=False)[:6]\n",
        "aksam = gunleri_say.loc['Akşam'].sort_values(ascending=False)[:6]\n",
        "gece = gunleri_say.loc['Gece'].sort_values(ascending=False)[:6]"
      ],
      "execution_count": null,
      "outputs": []
    },
    {
      "cell_type": "code",
      "metadata": {
        "id": "JlWa681LpRPU",
        "colab": {
          "base_uri": "https://localhost:8080/",
          "height": 457
        },
        "outputId": "42eba161-b11c-4b14-f2a0-1372d2511640"
      },
      "source": [
        "f, (ax1, ax2, ax3, ax4) = plt.subplots(1, 4,figsize=(20,6))\n",
        "sabah.plot(kind='bar',ax=ax1).set(xlabel=\"SABAH\", ylabel=\"SATIŞ MİKTARI\")\n",
        "ogle.plot(kind='bar',ax=ax2).set(xlabel=\"ÖĞLE\")\n",
        "aksam.plot(kind='bar',ax=ax3).set(xlabel=\"AKŞAM\")\n",
        "gece.plot(kind='bar',ax=ax4).set(xlabel=\"GECE\")\n",
        "plt.show()"
      ],
      "execution_count": null,
      "outputs": [
        {
          "output_type": "display_data",
          "data": {
            "image/png": "[encoded data removed]",
            "text/plain": [
              "<Figure size 1440x432 with 4 Axes>"
            ]
          },
          "metadata": {
            "tags": [],
            "needs_background": "light"
          }
        }
      ]
    },
    {
      "cell_type": "code",
      "metadata": {
        "id": "w4NnqtTkpRMx"
      },
      "source": [
        "ay_numarasi = [date.month for date in tarih]"
      ],
      "execution_count": null,
      "outputs": []
    },
    {
      "cell_type": "code",
      "metadata": {
        "id": "erspg7nDpRK2"
      },
      "source": [
        "def aylar(month):\n",
        "    if month >=1 and month <=2:\n",
        "        return 'Kış'\n",
        "    elif month >=3 and month <=5:\n",
        "        return 'İlkbahar'\n",
        "    else:\n",
        "        return 'Sonbahar'"
      ],
      "execution_count": null,
      "outputs": []
    },
    {
      "cell_type": "code",
      "metadata": {
        "id": "1ukLZu2BpRHi"
      },
      "source": [
        "sezon = [aylar(month) for month in ay_numarasi]\n",
        "data['Sezon'] = sezon"
      ],
      "execution_count": null,
      "outputs": []
    },
    {
      "cell_type": "code",
      "metadata": {
        "id": "gfaYMv6D6q6X",
        "colab": {
          "base_uri": "https://localhost:8080/",
          "height": 202
        },
        "outputId": "5529fd81-b5da-4bfc-f9c5-95948b3be6f2"
      },
      "source": [
        "data.head()"
      ],
      "execution_count": null,
      "outputs": [
        {
          "output_type": "execute_result",
          "data": {
            "text/html": [
              "<div>\n",
              "<style scoped>\n",
              "    .dataframe tbody tr th:only-of-type {\n",
              "        vertical-align: middle;\n",
              "    }\n",
              "\n",
              "    .dataframe tbody tr th {\n",
              "        vertical-align: top;\n",
              "    }\n",
              "\n",
              "    .dataframe thead th {\n",
              "        text-align: right;\n",
              "    }\n",
              "</style>\n",
              "<table border=\"1\" class=\"dataframe\">\n",
              "  <thead>\n",
              "    <tr style=\"text-align: right;\">\n",
              "      <th></th>\n",
              "      <th>Date</th>\n",
              "      <th>Time</th>\n",
              "      <th>Transaction</th>\n",
              "      <th>Item</th>\n",
              "      <th>Gün Vakitleri</th>\n",
              "      <th>Sezon</th>\n",
              "    </tr>\n",
              "  </thead>\n",
              "  <tbody>\n",
              "    <tr>\n",
              "      <th>0</th>\n",
              "      <td>2016-10-30</td>\n",
              "      <td>09:58:11</td>\n",
              "      <td>1</td>\n",
              "      <td>Bread</td>\n",
              "      <td>Sabah</td>\n",
              "      <td>Sonbahar</td>\n",
              "    </tr>\n",
              "    <tr>\n",
              "      <th>1</th>\n",
              "      <td>2016-10-30</td>\n",
              "      <td>10:05:34</td>\n",
              "      <td>2</td>\n",
              "      <td>Scandinavian</td>\n",
              "      <td>Sabah</td>\n",
              "      <td>Sonbahar</td>\n",
              "    </tr>\n",
              "    <tr>\n",
              "      <th>2</th>\n",
              "      <td>2016-10-30</td>\n",
              "      <td>10:05:34</td>\n",
              "      <td>2</td>\n",
              "      <td>Scandinavian</td>\n",
              "      <td>Sabah</td>\n",
              "      <td>Sonbahar</td>\n",
              "    </tr>\n",
              "    <tr>\n",
              "      <th>3</th>\n",
              "      <td>2016-10-30</td>\n",
              "      <td>10:07:57</td>\n",
              "      <td>3</td>\n",
              "      <td>Hot chocolate</td>\n",
              "      <td>Sabah</td>\n",
              "      <td>Sonbahar</td>\n",
              "    </tr>\n",
              "    <tr>\n",
              "      <th>4</th>\n",
              "      <td>2016-10-30</td>\n",
              "      <td>10:07:57</td>\n",
              "      <td>3</td>\n",
              "      <td>Jam</td>\n",
              "      <td>Sabah</td>\n",
              "      <td>Sonbahar</td>\n",
              "    </tr>\n",
              "  </tbody>\n",
              "</table>\n",
              "</div>"
            ],
            "text/plain": [
              "         Date      Time  Transaction           Item Gün Vakitleri     Sezon\n",
              "0  2016-10-30  09:58:11            1          Bread         Sabah  Sonbahar\n",
              "1  2016-10-30  10:05:34            2   Scandinavian         Sabah  Sonbahar\n",
              "2  2016-10-30  10:05:34            2   Scandinavian         Sabah  Sonbahar\n",
              "3  2016-10-30  10:07:57            3  Hot chocolate         Sabah  Sonbahar\n",
              "4  2016-10-30  10:07:57            3            Jam         Sabah  Sonbahar"
            ]
          },
          "metadata": {
            "tags": []
          },
          "execution_count": 32
        }
      ]
    },
    {
      "cell_type": "code",
      "metadata": {
        "id": "FmCvViHHpYUo"
      },
      "source": [
        "populer_sezon = data.groupby(['Sezon','Item'])['Item'].agg('count')"
      ],
      "execution_count": null,
      "outputs": []
    },
    {
      "cell_type": "code",
      "metadata": {
        "id": "hen9b1rNpYSh"
      },
      "source": [
        "kis=populer_sezon.loc['Kış'].sort_values()[-8:-1]\n",
        "ilkbahar = populer_sezon.loc['İlkbahar'].sort_values()[-8:]\n",
        "sonbahar=populer_sezon.loc['Sonbahar'].sort_values()[-8:]"
      ],
      "execution_count": null,
      "outputs": []
    },
    {
      "cell_type": "code",
      "metadata": {
        "id": "6Qx430OtpYPx",
        "colab": {
          "base_uri": "https://localhost:8080/",
          "height": 445
        },
        "outputId": "a90f3f88-ab7b-407c-beca-184aa7194ae1"
      },
      "source": [
        "f, (ax1, ax2, ax3) = plt.subplots(1, 3,figsize=(24,6))\n",
        "kis.plot(kind='bar',ax=ax1).set(xlabel=\"KIŞ\", ylabel=\"SATIŞ MİKTARI\")\n",
        "ilkbahar.plot(kind='bar',ax=ax2).set(xlabel=\"İLKBAHAR\")\n",
        "sonbahar.plot(kind='bar',ax=ax3).set(xlabel=\"SONBAHAR\")\n",
        "plt.show()"
      ],
      "execution_count": null,
      "outputs": [
        {
          "output_type": "display_data",
          "data": {
            "image/png": "[encoded data removed]",
            "text/plain": [
              "<Figure size 1728x432 with 3 Axes>"
            ]
          },
          "metadata": {
            "tags": [],
            "needs_background": "light"
          }
        }
      ]
    },
    {
      "cell_type": "code",
      "metadata": {
        "id": "2rHz71jG-nTs"
      },
      "source": [
        "hangi_gun = [date.day for date in tarih]"
      ],
      "execution_count": null,
      "outputs": []
    },
    {
      "cell_type": "code",
      "metadata": {
        "id": "1Utu5CEH-yec"
      },
      "source": [
        "def ay(day):\n",
        "    if day == 1:\n",
        "        return 'Pazartesi'\n",
        "    elif day== 2:\n",
        "        return 'Salı'\n",
        "    elif day == 3:\n",
        "        return 'Çarşamba'\n",
        "    elif day == 4:\n",
        "        return 'Perşembe'\n",
        "    elif day == 5:\n",
        "        return 'Cuma'\n",
        "    elif day == 6:\n",
        "        return 'Cumartesi'\n",
        "    else:\n",
        "        return 'Pazar'"
      ],
      "execution_count": null,
      "outputs": []
    },
    {
      "cell_type": "code",
      "metadata": {
        "id": "3JT5yb4x_C-S"
      },
      "source": [
        "Hangi_Gu = [ay(day) for day in hangi_gun]\n",
        "data['Gün'] = Hangi_Gu"
      ],
      "execution_count": null,
      "outputs": []
    },
    {
      "cell_type": "code",
      "metadata": {
        "id": "oYaDycAp_ek0",
        "colab": {
          "base_uri": "https://localhost:8080/",
          "height": 202
        },
        "outputId": "abfa5f34-eee2-4179-e4fa-cde4edcdf85a"
      },
      "source": [
        "data.head()"
      ],
      "execution_count": null,
      "outputs": [
        {
          "output_type": "execute_result",
          "data": {
            "text/html": [
              "<div>\n",
              "<style scoped>\n",
              "    .dataframe tbody tr th:only-of-type {\n",
              "        vertical-align: middle;\n",
              "    }\n",
              "\n",
              "    .dataframe tbody tr th {\n",
              "        vertical-align: top;\n",
              "    }\n",
              "\n",
              "    .dataframe thead th {\n",
              "        text-align: right;\n",
              "    }\n",
              "</style>\n",
              "<table border=\"1\" class=\"dataframe\">\n",
              "  <thead>\n",
              "    <tr style=\"text-align: right;\">\n",
              "      <th></th>\n",
              "      <th>Date</th>\n",
              "      <th>Time</th>\n",
              "      <th>Transaction</th>\n",
              "      <th>Item</th>\n",
              "      <th>Gün Vakitleri</th>\n",
              "      <th>Sezon</th>\n",
              "      <th>Gün</th>\n",
              "    </tr>\n",
              "  </thead>\n",
              "  <tbody>\n",
              "    <tr>\n",
              "      <th>0</th>\n",
              "      <td>2016-10-30</td>\n",
              "      <td>09:58:11</td>\n",
              "      <td>1</td>\n",
              "      <td>Bread</td>\n",
              "      <td>Sabah</td>\n",
              "      <td>Sonbahar</td>\n",
              "      <td>Pazar</td>\n",
              "    </tr>\n",
              "    <tr>\n",
              "      <th>1</th>\n",
              "      <td>2016-10-30</td>\n",
              "      <td>10:05:34</td>\n",
              "      <td>2</td>\n",
              "      <td>Scandinavian</td>\n",
              "      <td>Sabah</td>\n",
              "      <td>Sonbahar</td>\n",
              "      <td>Pazar</td>\n",
              "    </tr>\n",
              "    <tr>\n",
              "      <th>2</th>\n",
              "      <td>2016-10-30</td>\n",
              "      <td>10:05:34</td>\n",
              "      <td>2</td>\n",
              "      <td>Scandinavian</td>\n",
              "      <td>Sabah</td>\n",
              "      <td>Sonbahar</td>\n",
              "      <td>Pazar</td>\n",
              "    </tr>\n",
              "    <tr>\n",
              "      <th>3</th>\n",
              "      <td>2016-10-30</td>\n",
              "      <td>10:07:57</td>\n",
              "      <td>3</td>\n",
              "      <td>Hot chocolate</td>\n",
              "      <td>Sabah</td>\n",
              "      <td>Sonbahar</td>\n",
              "      <td>Pazar</td>\n",
              "    </tr>\n",
              "    <tr>\n",
              "      <th>4</th>\n",
              "      <td>2016-10-30</td>\n",
              "      <td>10:07:57</td>\n",
              "      <td>3</td>\n",
              "      <td>Jam</td>\n",
              "      <td>Sabah</td>\n",
              "      <td>Sonbahar</td>\n",
              "      <td>Pazar</td>\n",
              "    </tr>\n",
              "  </tbody>\n",
              "</table>\n",
              "</div>"
            ],
            "text/plain": [
              "         Date      Time  Transaction  ... Gün Vakitleri     Sezon    Gün\n",
              "0  2016-10-30  09:58:11            1  ...         Sabah  Sonbahar  Pazar\n",
              "1  2016-10-30  10:05:34            2  ...         Sabah  Sonbahar  Pazar\n",
              "2  2016-10-30  10:05:34            2  ...         Sabah  Sonbahar  Pazar\n",
              "3  2016-10-30  10:07:57            3  ...         Sabah  Sonbahar  Pazar\n",
              "4  2016-10-30  10:07:57            3  ...         Sabah  Sonbahar  Pazar\n",
              "\n",
              "[5 rows x 7 columns]"
            ]
          },
          "metadata": {
            "tags": []
          },
          "execution_count": 57
        }
      ]
    },
    {
      "cell_type": "code",
      "metadata": {
        "id": "bZTYZGeK_hli"
      },
      "source": [
        "populer_gunler = data.groupby(['Gün','Item'])['Item'].agg('count')"
      ],
      "execution_count": null,
      "outputs": []
    },
    {
      "cell_type": "code",
      "metadata": {
        "id": "0OeBR_zK_x3K"
      },
      "source": [
        "pazartesi=populer_gunler.loc['Pazartesi'].sort_values(ascending=False)[:5]\n",
        "sali=populer_gunler.loc['Salı'].sort_values(ascending=False)[:5]\n",
        "carsamba=populer_gunler.loc['Çarşamba'].sort_values(ascending=False)[:5]\n",
        "persembe=populer_gunler.loc['Perşembe'].sort_values(ascending=False)[:5]\n",
        "cuma=populer_gunler.loc['Cuma'].sort_values(ascending=False)[:5]\n",
        "cumartesi=populer_gunler.loc['Cumartesi'].sort_values(ascending=False)[:5]\n",
        "pazar=populer_gunler.loc['Pazar'].sort_values(ascending=False)[:5]"
      ],
      "execution_count": null,
      "outputs": []
    },
    {
      "cell_type": "code",
      "metadata": {
        "id": "1dyft3yiBcri",
        "colab": {
          "base_uri": "https://localhost:8080/",
          "height": 363
        },
        "outputId": "779d86a3-b343-4e32-98f3-6aa4e51dd384"
      },
      "source": [
        "f, (ax1, ax2, ax3, ax4, ax5, ax6, ax7) = plt.subplots(1, 7,figsize=(28,6))\n",
        "pazartesi.plot(kind='bar',ax=ax1).set(xlabel=\"PAZARTESİ\", ylabel=\"SATIŞ MİKTARI\")\n",
        "sali.plot(kind='bar',ax=ax2).set(xlabel=\"SALI\")\n",
        "carsamba.plot(kind='bar',ax=ax3).set(xlabel=\"ÇARŞAMBA\")\n",
        "persembe.plot(kind='bar',ax=ax4).set(xlabel=\"PERŞEMBE\")\n",
        "cuma.plot(kind='bar',ax=ax5).set(xlabel=\"CUMA\")\n",
        "cumartesi.plot(kind='bar',ax=ax6).set(xlabel=\"CUMARTESİ\")\n",
        "pazar.plot(kind='bar',ax=ax7).set(xlabel=\"PAZAR\")\n",
        "plt.show()"
      ],
      "execution_count": null,
      "outputs": [
        {
          "output_type": "display_data",
          "data": {
            "image/png": "[encoded data removed]",
            "text/plain": [
              "<Figure size 2016x432 with 7 Axes>"
            ]
          },
          "metadata": {
            "tags": [],
            "needs_background": "light"
          }
        }
      ]
    },
    {
      "cell_type": "markdown",
      "metadata": {
        "id": "kcrT6IhhOsPe"
      },
      "source": [
        "# **Satılan Ürünlerin Tarihe Göre Kategorize Edilmesi**"
      ]
    },
    {
      "cell_type": "markdown",
      "metadata": {
        "id": "OF4EG-HhUf62"
      },
      "source": [
        "- Projemizin sonunda genel analizi dışında ürünlerinde özel satış tarihi ve saatlerinin analizini yapacağız. Böylelikle hangi ürünün hangi tarihte ne kadar satıldığının analizi yapılarak ürün envanterini taze tutup hem ekonomik zararın önüne geçmek hem de israfı en aza indirmeyi planlıyoruz."
      ]
    },
    {
      "cell_type": "code",
      "metadata": {
        "id": "2YfGgvCxrOhG"
      },
      "source": [
        "gunun_bolumleri=data.copy()\n",
        "gunun_bolumleri['saat'] = gunun_bolumleri.Date.astype(str).str.cat(gunun_bolumleri.Time.astype(str), sep=' ')\n",
        "gunun_bolumleri['saat']=pd.to_datetime(gunun_bolumleri['saat'])\n",
        "\n",
        "gunun_bolumleri['hour'] = gunun_bolumleri['saat'].dt.round('H').dt.hour #round yuvarladı\n",
        "gunun_bolumleri.drop(['Time','Date'],axis=1,inplace=True)"
      ],
      "execution_count": null,
      "outputs": []
    },
    {
      "cell_type": "code",
      "metadata": {
        "id": "BIPppFfggoNI",
        "colab": {
          "base_uri": "https://localhost:8080/",
          "height": 356
        },
        "outputId": "38f3e231-339e-4b71-cf83-a60a36b04212"
      },
      "source": [
        "#en yoğun kahve satılma saatleri\n",
        "kahve_saatleri=gunun_bolumleri[gunun_bolumleri['Item']=='Coffee']\n",
        "kahve_saatleri=kahve_saatleri.groupby('hour')['Item'].count()\n",
        "kahve_saatleri=kahve_saatleri.reset_index()\n",
        "\n",
        "fig,ax=plt.subplots(figsize=(8,5))\n",
        "ax=sns.barplot(data=kahve_saatleri,x='hour',y='Item')\n",
        "ax.set_xlabel('Günün Saatleri',fontsize=16,color='r')\n",
        "ax.set_ylabel('Kahve Satılma Sayısı',fontsize=16,color='r')"
      ],
      "execution_count": null,
      "outputs": [
        {
          "output_type": "execute_result",
          "data": {
            "text/plain": [
              "Text(0, 0.5, 'Kahve Satılma Sayısı')"
            ]
          },
          "metadata": {
            "tags": []
          },
          "execution_count": 62
        },
        {
          "output_type": "display_data",
          "data": {
            "image/png": "[encoded data removed]",
            "text/plain": [
              "<Figure size 576x360 with 1 Axes>"
            ]
          },
          "metadata": {
            "tags": [],
            "needs_background": "light"
          }
        }
      ]
    },
    {
      "cell_type": "code",
      "metadata": {
        "id": "U-SF9E2Rj-ib",
        "colab": {
          "base_uri": "https://localhost:8080/",
          "height": 477
        },
        "outputId": "12c310d2-f6fb-4100-977e-19ef8e6b747f"
      },
      "source": [
        "kahve_saatleri"
      ],
      "execution_count": null,
      "outputs": [
        {
          "output_type": "execute_result",
          "data": {
            "text/html": [
              "<div>\n",
              "<style scoped>\n",
              "    .dataframe tbody tr th:only-of-type {\n",
              "        vertical-align: middle;\n",
              "    }\n",
              "\n",
              "    .dataframe tbody tr th {\n",
              "        vertical-align: top;\n",
              "    }\n",
              "\n",
              "    .dataframe thead th {\n",
              "        text-align: right;\n",
              "    }\n",
              "</style>\n",
              "<table border=\"1\" class=\"dataframe\">\n",
              "  <thead>\n",
              "    <tr style=\"text-align: right;\">\n",
              "      <th></th>\n",
              "      <th>hour</th>\n",
              "      <th>Item</th>\n",
              "    </tr>\n",
              "  </thead>\n",
              "  <tbody>\n",
              "    <tr>\n",
              "      <th>0</th>\n",
              "      <td>7</td>\n",
              "      <td>1</td>\n",
              "    </tr>\n",
              "    <tr>\n",
              "      <th>1</th>\n",
              "      <td>8</td>\n",
              "      <td>81</td>\n",
              "    </tr>\n",
              "    <tr>\n",
              "      <th>2</th>\n",
              "      <td>9</td>\n",
              "      <td>414</td>\n",
              "    </tr>\n",
              "    <tr>\n",
              "      <th>3</th>\n",
              "      <td>10</td>\n",
              "      <td>682</td>\n",
              "    </tr>\n",
              "    <tr>\n",
              "      <th>4</th>\n",
              "      <td>11</td>\n",
              "      <td>944</td>\n",
              "    </tr>\n",
              "    <tr>\n",
              "      <th>5</th>\n",
              "      <td>12</td>\n",
              "      <td>831</td>\n",
              "    </tr>\n",
              "    <tr>\n",
              "      <th>6</th>\n",
              "      <td>13</td>\n",
              "      <td>651</td>\n",
              "    </tr>\n",
              "    <tr>\n",
              "      <th>7</th>\n",
              "      <td>14</td>\n",
              "      <td>630</td>\n",
              "    </tr>\n",
              "    <tr>\n",
              "      <th>8</th>\n",
              "      <td>15</td>\n",
              "      <td>571</td>\n",
              "    </tr>\n",
              "    <tr>\n",
              "      <th>9</th>\n",
              "      <td>16</td>\n",
              "      <td>453</td>\n",
              "    </tr>\n",
              "    <tr>\n",
              "      <th>10</th>\n",
              "      <td>17</td>\n",
              "      <td>182</td>\n",
              "    </tr>\n",
              "    <tr>\n",
              "      <th>11</th>\n",
              "      <td>18</td>\n",
              "      <td>22</td>\n",
              "    </tr>\n",
              "    <tr>\n",
              "      <th>12</th>\n",
              "      <td>19</td>\n",
              "      <td>8</td>\n",
              "    </tr>\n",
              "    <tr>\n",
              "      <th>13</th>\n",
              "      <td>20</td>\n",
              "      <td>1</td>\n",
              "    </tr>\n",
              "  </tbody>\n",
              "</table>\n",
              "</div>"
            ],
            "text/plain": [
              "    hour  Item\n",
              "0      7     1\n",
              "1      8    81\n",
              "2      9   414\n",
              "3     10   682\n",
              "4     11   944\n",
              "5     12   831\n",
              "6     13   651\n",
              "7     14   630\n",
              "8     15   571\n",
              "9     16   453\n",
              "10    17   182\n",
              "11    18    22\n",
              "12    19     8\n",
              "13    20     1"
            ]
          },
          "metadata": {
            "tags": []
          },
          "execution_count": 63
        }
      ]
    },
    {
      "cell_type": "code",
      "metadata": {
        "id": "4tlVDeuWfOVa",
        "colab": {
          "base_uri": "https://localhost:8080/",
          "height": 356
        },
        "outputId": "29568144-4dcb-4add-df9d-00bb386e348a"
      },
      "source": [
        "# en yoğun Ekmek satılma saatleri\n",
        "ekmek_saatleri=gunun_bolumleri[gunun_bolumleri['Item']=='Bread']\n",
        "ekmek_saatleri=ekmek_saatleri.groupby('hour')['Item'].count()\n",
        "ekmek_saatleri=ekmek_saatleri.reset_index()\n",
        "\n",
        "fig,ax=plt.subplots(figsize=(8,5))\n",
        "ax=sns.barplot(data=ekmek_saatleri,x='hour',y='Item')\n",
        "ax.set_xlabel('Günün Saatleri',fontsize=16,color='r')\n",
        "ax.set_ylabel('Ekmek Satılma Sayısı',fontsize=16,color='r')"
      ],
      "execution_count": null,
      "outputs": [
        {
          "output_type": "execute_result",
          "data": {
            "text/plain": [
              "Text(0, 0.5, 'Ekmek Satılma Sayısı')"
            ]
          },
          "metadata": {
            "tags": []
          },
          "execution_count": 64
        },
        {
          "output_type": "display_data",
          "data": {
            "image/png": "[encoded data removed]",
            "text/plain": [
              "<Figure size 576x360 with 1 Axes>"
            ]
          },
          "metadata": {
            "tags": [],
            "needs_background": "light"
          }
        }
      ]
    },
    {
      "cell_type": "code",
      "metadata": {
        "id": "IhqOogAfj6_J",
        "colab": {
          "base_uri": "https://localhost:8080/",
          "height": 477
        },
        "outputId": "e8de680c-9b8b-4f79-a844-c3fe6ce063ef"
      },
      "source": [
        "ekmek_saatleri"
      ],
      "execution_count": null,
      "outputs": [
        {
          "output_type": "execute_result",
          "data": {
            "text/html": [
              "<div>\n",
              "<style scoped>\n",
              "    .dataframe tbody tr th:only-of-type {\n",
              "        vertical-align: middle;\n",
              "    }\n",
              "\n",
              "    .dataframe tbody tr th {\n",
              "        vertical-align: top;\n",
              "    }\n",
              "\n",
              "    .dataframe thead th {\n",
              "        text-align: right;\n",
              "    }\n",
              "</style>\n",
              "<table border=\"1\" class=\"dataframe\">\n",
              "  <thead>\n",
              "    <tr style=\"text-align: right;\">\n",
              "      <th></th>\n",
              "      <th>hour</th>\n",
              "      <th>Item</th>\n",
              "    </tr>\n",
              "  </thead>\n",
              "  <tbody>\n",
              "    <tr>\n",
              "      <th>0</th>\n",
              "      <td>1</td>\n",
              "      <td>1</td>\n",
              "    </tr>\n",
              "    <tr>\n",
              "      <th>1</th>\n",
              "      <td>8</td>\n",
              "      <td>33</td>\n",
              "    </tr>\n",
              "    <tr>\n",
              "      <th>2</th>\n",
              "      <td>9</td>\n",
              "      <td>354</td>\n",
              "    </tr>\n",
              "    <tr>\n",
              "      <th>3</th>\n",
              "      <td>10</td>\n",
              "      <td>409</td>\n",
              "    </tr>\n",
              "    <tr>\n",
              "      <th>4</th>\n",
              "      <td>11</td>\n",
              "      <td>538</td>\n",
              "    </tr>\n",
              "    <tr>\n",
              "      <th>5</th>\n",
              "      <td>12</td>\n",
              "      <td>514</td>\n",
              "    </tr>\n",
              "    <tr>\n",
              "      <th>6</th>\n",
              "      <td>13</td>\n",
              "      <td>419</td>\n",
              "    </tr>\n",
              "    <tr>\n",
              "      <th>7</th>\n",
              "      <td>14</td>\n",
              "      <td>345</td>\n",
              "    </tr>\n",
              "    <tr>\n",
              "      <th>8</th>\n",
              "      <td>15</td>\n",
              "      <td>293</td>\n",
              "    </tr>\n",
              "    <tr>\n",
              "      <th>9</th>\n",
              "      <td>16</td>\n",
              "      <td>275</td>\n",
              "    </tr>\n",
              "    <tr>\n",
              "      <th>10</th>\n",
              "      <td>17</td>\n",
              "      <td>126</td>\n",
              "    </tr>\n",
              "    <tr>\n",
              "      <th>11</th>\n",
              "      <td>18</td>\n",
              "      <td>14</td>\n",
              "    </tr>\n",
              "    <tr>\n",
              "      <th>12</th>\n",
              "      <td>19</td>\n",
              "      <td>3</td>\n",
              "    </tr>\n",
              "    <tr>\n",
              "      <th>13</th>\n",
              "      <td>20</td>\n",
              "      <td>1</td>\n",
              "    </tr>\n",
              "  </tbody>\n",
              "</table>\n",
              "</div>"
            ],
            "text/plain": [
              "    hour  Item\n",
              "0      1     1\n",
              "1      8    33\n",
              "2      9   354\n",
              "3     10   409\n",
              "4     11   538\n",
              "5     12   514\n",
              "6     13   419\n",
              "7     14   345\n",
              "8     15   293\n",
              "9     16   275\n",
              "10    17   126\n",
              "11    18    14\n",
              "12    19     3\n",
              "13    20     1"
            ]
          },
          "metadata": {
            "tags": []
          },
          "execution_count": 66
        }
      ]
    },
    {
      "cell_type": "code",
      "metadata": {
        "id": "MgPSKmgpfRv4",
        "colab": {
          "base_uri": "https://localhost:8080/",
          "height": 358
        },
        "outputId": "f0b024ca-fd24-4517-d1d6-8acbdb3c592e"
      },
      "source": [
        "# en yoğun Pasta ve hamurişi satılma saatleri\n",
        "kek_saatleri=gunun_bolumleri.loc[(gunun_bolumleri['Item']=='Cake') | (gunun_bolumleri['Item']=='Pastry')]\n",
        "kek_saatleri=kek_saatleri.groupby('hour')['Item'].count()\n",
        "kek_saatleri=kek_saatleri.reset_index()\n",
        "\n",
        "fig,ax=plt.subplots(figsize=(8,5))\n",
        "ax=sns.barplot(data=kek_saatleri,x='hour',y='Item')\n",
        "ax.set_xlabel('Günün Saatleri',fontsize=16,color='r')\n",
        "ax.set_ylabel('Kek yada Hamur işi Satılma Sayısı',fontsize=16,color='r')"
      ],
      "execution_count": null,
      "outputs": [
        {
          "output_type": "execute_result",
          "data": {
            "text/plain": [
              "Text(0, 0.5, 'Kek yada Hamur işi Satılma Sayısı')"
            ]
          },
          "metadata": {
            "tags": []
          },
          "execution_count": 67
        },
        {
          "output_type": "display_data",
          "data": {
            "image/png": "[encoded data removed]",
            "text/plain": [
              "<Figure size 576x360 with 1 Axes>"
            ]
          },
          "metadata": {
            "tags": [],
            "needs_background": "light"
          }
        }
      ]
    },
    {
      "cell_type": "code",
      "metadata": {
        "id": "7g7F44w0j1q2",
        "colab": {
          "base_uri": "https://localhost:8080/",
          "height": 416
        },
        "outputId": "5e010de4-6354-47e0-f79a-5cb3083635c1"
      },
      "source": [
        "kek_saatleri"
      ],
      "execution_count": null,
      "outputs": [
        {
          "output_type": "execute_result",
          "data": {
            "text/html": [
              "<div>\n",
              "<style scoped>\n",
              "    .dataframe tbody tr th:only-of-type {\n",
              "        vertical-align: middle;\n",
              "    }\n",
              "\n",
              "    .dataframe tbody tr th {\n",
              "        vertical-align: top;\n",
              "    }\n",
              "\n",
              "    .dataframe thead th {\n",
              "        text-align: right;\n",
              "    }\n",
              "</style>\n",
              "<table border=\"1\" class=\"dataframe\">\n",
              "  <thead>\n",
              "    <tr style=\"text-align: right;\">\n",
              "      <th></th>\n",
              "      <th>hour</th>\n",
              "      <th>Item</th>\n",
              "    </tr>\n",
              "  </thead>\n",
              "  <tbody>\n",
              "    <tr>\n",
              "      <th>0</th>\n",
              "      <td>8</td>\n",
              "      <td>31</td>\n",
              "    </tr>\n",
              "    <tr>\n",
              "      <th>1</th>\n",
              "      <td>9</td>\n",
              "      <td>151</td>\n",
              "    </tr>\n",
              "    <tr>\n",
              "      <th>2</th>\n",
              "      <td>10</td>\n",
              "      <td>257</td>\n",
              "    </tr>\n",
              "    <tr>\n",
              "      <th>3</th>\n",
              "      <td>11</td>\n",
              "      <td>287</td>\n",
              "    </tr>\n",
              "    <tr>\n",
              "      <th>4</th>\n",
              "      <td>12</td>\n",
              "      <td>244</td>\n",
              "    </tr>\n",
              "    <tr>\n",
              "      <th>5</th>\n",
              "      <td>13</td>\n",
              "      <td>194</td>\n",
              "    </tr>\n",
              "    <tr>\n",
              "      <th>6</th>\n",
              "      <td>14</td>\n",
              "      <td>212</td>\n",
              "    </tr>\n",
              "    <tr>\n",
              "      <th>7</th>\n",
              "      <td>15</td>\n",
              "      <td>218</td>\n",
              "    </tr>\n",
              "    <tr>\n",
              "      <th>8</th>\n",
              "      <td>16</td>\n",
              "      <td>190</td>\n",
              "    </tr>\n",
              "    <tr>\n",
              "      <th>9</th>\n",
              "      <td>17</td>\n",
              "      <td>86</td>\n",
              "    </tr>\n",
              "    <tr>\n",
              "      <th>10</th>\n",
              "      <td>18</td>\n",
              "      <td>9</td>\n",
              "    </tr>\n",
              "    <tr>\n",
              "      <th>11</th>\n",
              "      <td>19</td>\n",
              "      <td>2</td>\n",
              "    </tr>\n",
              "  </tbody>\n",
              "</table>\n",
              "</div>"
            ],
            "text/plain": [
              "    hour  Item\n",
              "0      8    31\n",
              "1      9   151\n",
              "2     10   257\n",
              "3     11   287\n",
              "4     12   244\n",
              "5     13   194\n",
              "6     14   212\n",
              "7     15   218\n",
              "8     16   190\n",
              "9     17    86\n",
              "10    18     9\n",
              "11    19     2"
            ]
          },
          "metadata": {
            "tags": []
          },
          "execution_count": 68
        }
      ]
    },
    {
      "cell_type": "code",
      "metadata": {
        "id": "aAMJW9yCfUen",
        "colab": {
          "base_uri": "https://localhost:8080/",
          "height": 356
        },
        "outputId": "c36e6ae9-5950-4d09-91cf-4946ee4708e3"
      },
      "source": [
        "# en yoğun çay satılma saatleri\n",
        "cay_saatleri=gunun_bolumleri.loc[(gunun_bolumleri['Item']=='Tea')]\n",
        "cay_saatleri=cay_saatleri.groupby('hour')['Item'].count()\n",
        "cay_saatleri=cay_saatleri.reset_index()\n",
        "\n",
        "fig,ax=plt.subplots(figsize=(8,5))\n",
        "ax=sns.barplot(data=cay_saatleri,x='hour',y='Item')\n",
        "ax.set_xlabel('Günün Saatleri',fontsize=16,color='r')\n",
        "ax.set_ylabel('Çay Satılma Sayısı',fontsize=16,color='r')"
      ],
      "execution_count": null,
      "outputs": [
        {
          "output_type": "execute_result",
          "data": {
            "text/plain": [
              "Text(0, 0.5, 'Çay Satılma Sayısı')"
            ]
          },
          "metadata": {
            "tags": []
          },
          "execution_count": 69
        },
        {
          "output_type": "display_data",
          "data": {
            "image/png": "[encoded data removed]",
            "text/plain": [
              "<Figure size 576x360 with 1 Axes>"
            ]
          },
          "metadata": {
            "tags": [],
            "needs_background": "light"
          }
        }
      ]
    },
    {
      "cell_type": "code",
      "metadata": {
        "id": "YU5X7kqvl65z",
        "colab": {
          "base_uri": "https://localhost:8080/",
          "height": 416
        },
        "outputId": "c9c2a8f9-2996-4c26-9246-645aac70b0ba"
      },
      "source": [
        "cay_saatleri"
      ],
      "execution_count": null,
      "outputs": [
        {
          "output_type": "execute_result",
          "data": {
            "text/html": [
              "<div>\n",
              "<style scoped>\n",
              "    .dataframe tbody tr th:only-of-type {\n",
              "        vertical-align: middle;\n",
              "    }\n",
              "\n",
              "    .dataframe tbody tr th {\n",
              "        vertical-align: top;\n",
              "    }\n",
              "\n",
              "    .dataframe thead th {\n",
              "        text-align: right;\n",
              "    }\n",
              "</style>\n",
              "<table border=\"1\" class=\"dataframe\">\n",
              "  <thead>\n",
              "    <tr style=\"text-align: right;\">\n",
              "      <th></th>\n",
              "      <th>hour</th>\n",
              "      <th>Item</th>\n",
              "    </tr>\n",
              "  </thead>\n",
              "  <tbody>\n",
              "    <tr>\n",
              "      <th>0</th>\n",
              "      <td>8</td>\n",
              "      <td>2</td>\n",
              "    </tr>\n",
              "    <tr>\n",
              "      <th>1</th>\n",
              "      <td>9</td>\n",
              "      <td>68</td>\n",
              "    </tr>\n",
              "    <tr>\n",
              "      <th>2</th>\n",
              "      <td>10</td>\n",
              "      <td>122</td>\n",
              "    </tr>\n",
              "    <tr>\n",
              "      <th>3</th>\n",
              "      <td>11</td>\n",
              "      <td>181</td>\n",
              "    </tr>\n",
              "    <tr>\n",
              "      <th>4</th>\n",
              "      <td>12</td>\n",
              "      <td>168</td>\n",
              "    </tr>\n",
              "    <tr>\n",
              "      <th>5</th>\n",
              "      <td>13</td>\n",
              "      <td>180</td>\n",
              "    </tr>\n",
              "    <tr>\n",
              "      <th>6</th>\n",
              "      <td>14</td>\n",
              "      <td>218</td>\n",
              "    </tr>\n",
              "    <tr>\n",
              "      <th>7</th>\n",
              "      <td>15</td>\n",
              "      <td>203</td>\n",
              "    </tr>\n",
              "    <tr>\n",
              "      <th>8</th>\n",
              "      <td>16</td>\n",
              "      <td>203</td>\n",
              "    </tr>\n",
              "    <tr>\n",
              "      <th>9</th>\n",
              "      <td>17</td>\n",
              "      <td>75</td>\n",
              "    </tr>\n",
              "    <tr>\n",
              "      <th>10</th>\n",
              "      <td>18</td>\n",
              "      <td>8</td>\n",
              "    </tr>\n",
              "    <tr>\n",
              "      <th>11</th>\n",
              "      <td>19</td>\n",
              "      <td>7</td>\n",
              "    </tr>\n",
              "  </tbody>\n",
              "</table>\n",
              "</div>"
            ],
            "text/plain": [
              "    hour  Item\n",
              "0      8     2\n",
              "1      9    68\n",
              "2     10   122\n",
              "3     11   181\n",
              "4     12   168\n",
              "5     13   180\n",
              "6     14   218\n",
              "7     15   203\n",
              "8     16   203\n",
              "9     17    75\n",
              "10    18     8\n",
              "11    19     7"
            ]
          },
          "metadata": {
            "tags": []
          },
          "execution_count": 70
        }
      ]
    },
    {
      "cell_type": "code",
      "metadata": {
        "id": "IjKhN03llFoS",
        "colab": {
          "base_uri": "https://localhost:8080/",
          "height": 356
        },
        "outputId": "3f1d54b6-21c1-4236-ece6-3b1fde77ee27"
      },
      "source": [
        "# en yoğun sandwich satılma saatleri\n",
        "sandwich_saatleri=gunun_bolumleri.loc[(gunun_bolumleri['Item']=='Sandwich')]\n",
        "sandwich_saatleri=sandwich_saatleri.groupby('hour')['Item'].count()\n",
        "sandwich_saatleri=sandwich_saatleri.reset_index()\n",
        "\n",
        "fig,ax=plt.subplots(figsize=(8,5))\n",
        "ax=sns.barplot(data=sandwich_saatleri,x='hour',y='Item')\n",
        "ax.set_xlabel('Günün Saatleri',fontsize=16,color='r')\n",
        "ax.set_ylabel('Sandwich Satılma Sayısı',fontsize=16,color='r')"
      ],
      "execution_count": null,
      "outputs": [
        {
          "output_type": "execute_result",
          "data": {
            "text/plain": [
              "Text(0, 0.5, 'Sandwich Satılma Sayısı')"
            ]
          },
          "metadata": {
            "tags": []
          },
          "execution_count": 215
        },
        {
          "output_type": "display_data",
          "data": {
            "image/png": "[encoded data removed]",
            "text/plain": [
              "<Figure size 576x360 with 1 Axes>"
            ]
          },
          "metadata": {
            "tags": [],
            "needs_background": "light"
          }
        }
      ]
    },
    {
      "cell_type": "code",
      "metadata": {
        "id": "av9ieUdRlZXO",
        "colab": {
          "base_uri": "https://localhost:8080/",
          "height": 385
        },
        "outputId": "ca655536-9171-442b-cd48-efa0eaa6b751"
      },
      "source": [
        "sandwich_saatleri"
      ],
      "execution_count": null,
      "outputs": [
        {
          "output_type": "execute_result",
          "data": {
            "text/html": [
              "<div>\n",
              "<style scoped>\n",
              "    .dataframe tbody tr th:only-of-type {\n",
              "        vertical-align: middle;\n",
              "    }\n",
              "\n",
              "    .dataframe tbody tr th {\n",
              "        vertical-align: top;\n",
              "    }\n",
              "\n",
              "    .dataframe thead th {\n",
              "        text-align: right;\n",
              "    }\n",
              "</style>\n",
              "<table border=\"1\" class=\"dataframe\">\n",
              "  <thead>\n",
              "    <tr style=\"text-align: right;\">\n",
              "      <th></th>\n",
              "      <th>hour</th>\n",
              "      <th>Item</th>\n",
              "    </tr>\n",
              "  </thead>\n",
              "  <tbody>\n",
              "    <tr>\n",
              "      <th>0</th>\n",
              "      <td>8</td>\n",
              "      <td>3</td>\n",
              "    </tr>\n",
              "    <tr>\n",
              "      <th>1</th>\n",
              "      <td>9</td>\n",
              "      <td>8</td>\n",
              "    </tr>\n",
              "    <tr>\n",
              "      <th>2</th>\n",
              "      <td>10</td>\n",
              "      <td>20</td>\n",
              "    </tr>\n",
              "    <tr>\n",
              "      <th>3</th>\n",
              "      <td>11</td>\n",
              "      <td>25</td>\n",
              "    </tr>\n",
              "    <tr>\n",
              "      <th>4</th>\n",
              "      <td>12</td>\n",
              "      <td>91</td>\n",
              "    </tr>\n",
              "    <tr>\n",
              "      <th>5</th>\n",
              "      <td>13</td>\n",
              "      <td>228</td>\n",
              "    </tr>\n",
              "    <tr>\n",
              "      <th>6</th>\n",
              "      <td>14</td>\n",
              "      <td>218</td>\n",
              "    </tr>\n",
              "    <tr>\n",
              "      <th>7</th>\n",
              "      <td>15</td>\n",
              "      <td>115</td>\n",
              "    </tr>\n",
              "    <tr>\n",
              "      <th>8</th>\n",
              "      <td>16</td>\n",
              "      <td>51</td>\n",
              "    </tr>\n",
              "    <tr>\n",
              "      <th>9</th>\n",
              "      <td>17</td>\n",
              "      <td>9</td>\n",
              "    </tr>\n",
              "    <tr>\n",
              "      <th>10</th>\n",
              "      <td>18</td>\n",
              "      <td>3</td>\n",
              "    </tr>\n",
              "  </tbody>\n",
              "</table>\n",
              "</div>"
            ],
            "text/plain": [
              "    hour  Item\n",
              "0      8     3\n",
              "1      9     8\n",
              "2     10    20\n",
              "3     11    25\n",
              "4     12    91\n",
              "5     13   228\n",
              "6     14   218\n",
              "7     15   115\n",
              "8     16    51\n",
              "9     17     9\n",
              "10    18     3"
            ]
          },
          "metadata": {
            "tags": []
          },
          "execution_count": 216
        }
      ]
    },
    {
      "cell_type": "code",
      "metadata": {
        "id": "p0n98AmXm5ww",
        "colab": {
          "base_uri": "https://localhost:8080/",
          "height": 356
        },
        "outputId": "8fe92890-0f04-4a76-e643-12ea298b506c"
      },
      "source": [
        "# en yoğun Kurabiye satılma saatleri\n",
        "Kurabiye_saatleri=gunun_bolumleri.loc[(gunun_bolumleri['Item']=='Cookies')]\n",
        "Kurabiye_saatleri=Kurabiye_saatleri.groupby('hour')['Item'].count()\n",
        "Kurabiye_saatleri=Kurabiye_saatleri.reset_index()\n",
        "\n",
        "fig,ax=plt.subplots(figsize=(8,5))\n",
        "ax=sns.barplot(data=Kurabiye_saatleri,x='hour',y='Item')\n",
        "ax.set_xlabel('Günün Saatleri',fontsize=16,color='r')\n",
        "ax.set_ylabel('Kurabiye Satılma Sayısı',fontsize=16,color='r')"
      ],
      "execution_count": null,
      "outputs": [
        {
          "output_type": "execute_result",
          "data": {
            "text/plain": [
              "Text(0, 0.5, 'Kurabiye Satılma Sayısı')"
            ]
          },
          "metadata": {
            "tags": []
          },
          "execution_count": 217
        },
        {
          "output_type": "display_data",
          "data": {
            "image/png": "[encoded data removed]",
            "text/plain": [
              "<Figure size 576x360 with 1 Axes>"
            ]
          },
          "metadata": {
            "tags": [],
            "needs_background": "light"
          }
        }
      ]
    },
    {
      "cell_type": "code",
      "metadata": {
        "id": "IFH02oXom5qm",
        "colab": {
          "base_uri": "https://localhost:8080/",
          "height": 385
        },
        "outputId": "b6b7a83a-58fd-44f7-e1dc-24783b29aec8"
      },
      "source": [
        "Kurabiye_saatleri"
      ],
      "execution_count": null,
      "outputs": [
        {
          "output_type": "execute_result",
          "data": {
            "text/html": [
              "<div>\n",
              "<style scoped>\n",
              "    .dataframe tbody tr th:only-of-type {\n",
              "        vertical-align: middle;\n",
              "    }\n",
              "\n",
              "    .dataframe tbody tr th {\n",
              "        vertical-align: top;\n",
              "    }\n",
              "\n",
              "    .dataframe thead th {\n",
              "        text-align: right;\n",
              "    }\n",
              "</style>\n",
              "<table border=\"1\" class=\"dataframe\">\n",
              "  <thead>\n",
              "    <tr style=\"text-align: right;\">\n",
              "      <th></th>\n",
              "      <th>hour</th>\n",
              "      <th>Item</th>\n",
              "    </tr>\n",
              "  </thead>\n",
              "  <tbody>\n",
              "    <tr>\n",
              "      <th>0</th>\n",
              "      <td>8</td>\n",
              "      <td>7</td>\n",
              "    </tr>\n",
              "    <tr>\n",
              "      <th>1</th>\n",
              "      <td>9</td>\n",
              "      <td>20</td>\n",
              "    </tr>\n",
              "    <tr>\n",
              "      <th>2</th>\n",
              "      <td>10</td>\n",
              "      <td>60</td>\n",
              "    </tr>\n",
              "    <tr>\n",
              "      <th>3</th>\n",
              "      <td>11</td>\n",
              "      <td>85</td>\n",
              "    </tr>\n",
              "    <tr>\n",
              "      <th>4</th>\n",
              "      <td>12</td>\n",
              "      <td>66</td>\n",
              "    </tr>\n",
              "    <tr>\n",
              "      <th>5</th>\n",
              "      <td>13</td>\n",
              "      <td>62</td>\n",
              "    </tr>\n",
              "    <tr>\n",
              "      <th>6</th>\n",
              "      <td>14</td>\n",
              "      <td>64</td>\n",
              "    </tr>\n",
              "    <tr>\n",
              "      <th>7</th>\n",
              "      <td>15</td>\n",
              "      <td>56</td>\n",
              "    </tr>\n",
              "    <tr>\n",
              "      <th>8</th>\n",
              "      <td>16</td>\n",
              "      <td>71</td>\n",
              "    </tr>\n",
              "    <tr>\n",
              "      <th>9</th>\n",
              "      <td>17</td>\n",
              "      <td>45</td>\n",
              "    </tr>\n",
              "    <tr>\n",
              "      <th>10</th>\n",
              "      <td>18</td>\n",
              "      <td>4</td>\n",
              "    </tr>\n",
              "  </tbody>\n",
              "</table>\n",
              "</div>"
            ],
            "text/plain": [
              "    hour  Item\n",
              "0      8     7\n",
              "1      9    20\n",
              "2     10    60\n",
              "3     11    85\n",
              "4     12    66\n",
              "5     13    62\n",
              "6     14    64\n",
              "7     15    56\n",
              "8     16    71\n",
              "9     17    45\n",
              "10    18     4"
            ]
          },
          "metadata": {
            "tags": []
          },
          "execution_count": 218
        }
      ]
    },
    {
      "cell_type": "code",
      "metadata": {
        "id": "zMjZsVvam5hf",
        "colab": {
          "base_uri": "https://localhost:8080/",
          "height": 358
        },
        "outputId": "216000b7-2f89-458f-9336-b509aebaa48e"
      },
      "source": [
        "# en yoğun corba satılma saatleri\n",
        "corba_saatleri=gunun_bolumleri.loc[(gunun_bolumleri['Item']=='Soup')]\n",
        "corba_saatleri=corba_saatleri.groupby('hour')['Item'].count()\n",
        "corba_saatleri=corba_saatleri.reset_index()\n",
        "\n",
        "fig,ax=plt.subplots(figsize=(8,5))\n",
        "ax=sns.barplot(data=corba_saatleri,x='hour',y='Item')\n",
        "ax.set_xlabel('Günün Saatleri',fontsize=16,color='r')\n",
        "ax.set_ylabel('Çorba Satılma Sayısı',fontsize=16,color='r')"
      ],
      "execution_count": null,
      "outputs": [
        {
          "output_type": "execute_result",
          "data": {
            "text/plain": [
              "Text(0, 0.5, 'Çorba Satılma Sayısı')"
            ]
          },
          "metadata": {
            "tags": []
          },
          "execution_count": 219
        },
        {
          "output_type": "display_data",
          "data": {
            "image/png": "[encoded data removed]",
            "text/plain": [
              "<Figure size 576x360 with 1 Axes>"
            ]
          },
          "metadata": {
            "tags": [],
            "needs_background": "light"
          }
        }
      ]
    },
    {
      "cell_type": "code",
      "metadata": {
        "id": "4r2iaBeym5VY",
        "colab": {
          "base_uri": "https://localhost:8080/",
          "height": 324
        },
        "outputId": "fbf87cdf-9cf1-4498-c5ea-60ad5ef0908c"
      },
      "source": [
        "corba_saatleri"
      ],
      "execution_count": null,
      "outputs": [
        {
          "output_type": "execute_result",
          "data": {
            "text/html": [
              "<div>\n",
              "<style scoped>\n",
              "    .dataframe tbody tr th:only-of-type {\n",
              "        vertical-align: middle;\n",
              "    }\n",
              "\n",
              "    .dataframe tbody tr th {\n",
              "        vertical-align: top;\n",
              "    }\n",
              "\n",
              "    .dataframe thead th {\n",
              "        text-align: right;\n",
              "    }\n",
              "</style>\n",
              "<table border=\"1\" class=\"dataframe\">\n",
              "  <thead>\n",
              "    <tr style=\"text-align: right;\">\n",
              "      <th></th>\n",
              "      <th>hour</th>\n",
              "      <th>Item</th>\n",
              "    </tr>\n",
              "  </thead>\n",
              "  <tbody>\n",
              "    <tr>\n",
              "      <th>0</th>\n",
              "      <td>10</td>\n",
              "      <td>1</td>\n",
              "    </tr>\n",
              "    <tr>\n",
              "      <th>1</th>\n",
              "      <td>11</td>\n",
              "      <td>4</td>\n",
              "    </tr>\n",
              "    <tr>\n",
              "      <th>2</th>\n",
              "      <td>12</td>\n",
              "      <td>46</td>\n",
              "    </tr>\n",
              "    <tr>\n",
              "      <th>3</th>\n",
              "      <td>13</td>\n",
              "      <td>96</td>\n",
              "    </tr>\n",
              "    <tr>\n",
              "      <th>4</th>\n",
              "      <td>14</td>\n",
              "      <td>115</td>\n",
              "    </tr>\n",
              "    <tr>\n",
              "      <th>5</th>\n",
              "      <td>15</td>\n",
              "      <td>47</td>\n",
              "    </tr>\n",
              "    <tr>\n",
              "      <th>6</th>\n",
              "      <td>16</td>\n",
              "      <td>25</td>\n",
              "    </tr>\n",
              "    <tr>\n",
              "      <th>7</th>\n",
              "      <td>17</td>\n",
              "      <td>7</td>\n",
              "    </tr>\n",
              "    <tr>\n",
              "      <th>8</th>\n",
              "      <td>18</td>\n",
              "      <td>1</td>\n",
              "    </tr>\n",
              "  </tbody>\n",
              "</table>\n",
              "</div>"
            ],
            "text/plain": [
              "   hour  Item\n",
              "0    10     1\n",
              "1    11     4\n",
              "2    12    46\n",
              "3    13    96\n",
              "4    14   115\n",
              "5    15    47\n",
              "6    16    25\n",
              "7    17     7\n",
              "8    18     1"
            ]
          },
          "metadata": {
            "tags": []
          },
          "execution_count": 220
        }
      ]
    },
    {
      "cell_type": "code",
      "metadata": {
        "id": "7ZFuRkMmOZLZ",
        "colab": {
          "base_uri": "https://localhost:8080/",
          "height": 356
        },
        "outputId": "a7e8237b-1847-4d52-de51-4bda9f8b2f15"
      },
      "source": [
        "#en yoğun tost satılma saatleri\n",
        "tost_saatleri=gunun_bolumleri[gunun_bolumleri['Item']=='Toast']\n",
        "tost_saatleri=tost_saatleri.groupby('hour')['Item'].count()\n",
        "tost_saatleri=tost_saatleri.reset_index()\n",
        "\n",
        "fig,ax=plt.subplots(figsize=(8,5))\n",
        "ax=sns.barplot(data=tost_saatleri,x='hour',y='Item')\n",
        "ax.set_xlabel('Günün Saatleri',fontsize=16,color='r')\n",
        "ax.set_ylabel('Tost Satılma Sayısı',fontsize=16,color='r')"
      ],
      "execution_count": null,
      "outputs": [
        {
          "output_type": "execute_result",
          "data": {
            "text/plain": [
              "Text(0, 0.5, 'Tost Satılma Sayısı')"
            ]
          },
          "metadata": {
            "tags": []
          },
          "execution_count": 221
        },
        {
          "output_type": "display_data",
          "data": {
            "image/png": "[encoded data removed]",
            "text/plain": [
              "<Figure size 576x360 with 1 Axes>"
            ]
          },
          "metadata": {
            "tags": [],
            "needs_background": "light"
          }
        }
      ]
    },
    {
      "cell_type": "code",
      "metadata": {
        "id": "0h5LrM2UOaFx",
        "colab": {
          "base_uri": "https://localhost:8080/",
          "height": 355
        },
        "outputId": "8d61b395-3926-4a12-b2d1-5936ad9e334d"
      },
      "source": [
        "tost_saatleri"
      ],
      "execution_count": null,
      "outputs": [
        {
          "output_type": "execute_result",
          "data": {
            "text/html": [
              "<div>\n",
              "<style scoped>\n",
              "    .dataframe tbody tr th:only-of-type {\n",
              "        vertical-align: middle;\n",
              "    }\n",
              "\n",
              "    .dataframe tbody tr th {\n",
              "        vertical-align: top;\n",
              "    }\n",
              "\n",
              "    .dataframe thead th {\n",
              "        text-align: right;\n",
              "    }\n",
              "</style>\n",
              "<table border=\"1\" class=\"dataframe\">\n",
              "  <thead>\n",
              "    <tr style=\"text-align: right;\">\n",
              "      <th></th>\n",
              "      <th>hour</th>\n",
              "      <th>Item</th>\n",
              "    </tr>\n",
              "  </thead>\n",
              "  <tbody>\n",
              "    <tr>\n",
              "      <th>0</th>\n",
              "      <td>8</td>\n",
              "      <td>4</td>\n",
              "    </tr>\n",
              "    <tr>\n",
              "      <th>1</th>\n",
              "      <td>9</td>\n",
              "      <td>59</td>\n",
              "    </tr>\n",
              "    <tr>\n",
              "      <th>2</th>\n",
              "      <td>10</td>\n",
              "      <td>56</td>\n",
              "    </tr>\n",
              "    <tr>\n",
              "      <th>3</th>\n",
              "      <td>11</td>\n",
              "      <td>65</td>\n",
              "    </tr>\n",
              "    <tr>\n",
              "      <th>4</th>\n",
              "      <td>12</td>\n",
              "      <td>45</td>\n",
              "    </tr>\n",
              "    <tr>\n",
              "      <th>5</th>\n",
              "      <td>13</td>\n",
              "      <td>30</td>\n",
              "    </tr>\n",
              "    <tr>\n",
              "      <th>6</th>\n",
              "      <td>14</td>\n",
              "      <td>26</td>\n",
              "    </tr>\n",
              "    <tr>\n",
              "      <th>7</th>\n",
              "      <td>15</td>\n",
              "      <td>20</td>\n",
              "    </tr>\n",
              "    <tr>\n",
              "      <th>8</th>\n",
              "      <td>16</td>\n",
              "      <td>10</td>\n",
              "    </tr>\n",
              "    <tr>\n",
              "      <th>9</th>\n",
              "      <td>17</td>\n",
              "      <td>3</td>\n",
              "    </tr>\n",
              "  </tbody>\n",
              "</table>\n",
              "</div>"
            ],
            "text/plain": [
              "   hour  Item\n",
              "0     8     4\n",
              "1     9    59\n",
              "2    10    56\n",
              "3    11    65\n",
              "4    12    45\n",
              "5    13    30\n",
              "6    14    26\n",
              "7    15    20\n",
              "8    16    10\n",
              "9    17     3"
            ]
          },
          "metadata": {
            "tags": []
          },
          "execution_count": 222
        }
      ]
    },
    {
      "cell_type": "markdown",
      "metadata": {
        "id": "aNl4l206J3Mk"
      },
      "source": [
        "# **Hangi Ürünlerin Birlikte Tercih Edildiğinin Analizi (Birliktelik Analizi)**"
      ]
    },
    {
      "cell_type": "markdown",
      "metadata": {
        "id": "4coFgDaAi4Cw"
      },
      "source": [
        "- Çay ile hangi ürünün daha çok alındığının analizi"
      ]
    },
    {
      "cell_type": "code",
      "metadata": {
        "id": "LqDiBq7BPSMc"
      },
      "source": [
        "def cay_fonk(grup):\n",
        "    eslesme = grup['Item'].str.contains('Tea')\n",
        "    return data.loc[eslesme]\n",
        "    \n",
        "cay = data[data['Item'].str.contains('Tea')]['Transaction'].unique()"
      ],
      "execution_count": null,
      "outputs": []
    },
    {
      "cell_type": "code",
      "metadata": {
        "id": "KApUaAi5a6TF"
      },
      "source": [
        "cay = pd.DataFrame(cay,columns=['Transaction'])\n",
        "cay_birlesik=cay.merge(data)\n",
        "cay_birlesik = cay_birlesik[~cay_birlesik.Item.str.contains('Tea')]['Item'].value_counts()"
      ],
      "execution_count": null,
      "outputs": []
    },
    {
      "cell_type": "code",
      "metadata": {
        "id": "x5vLu6L5bACc",
        "colab": {
          "base_uri": "https://localhost:8080/",
          "height": 446
        },
        "outputId": "700e57ed-2e93-40f3-8c10-0714e4eaee51"
      },
      "source": [
        "plt.figure(figsize=(14,6))\n",
        "cay_birlesik[:10].plot(kind='bar',color='orange').set(xlabel=\"Yiyecekler\", ylabel=\"Satış Miktarı\")\n",
        "plt.show()"
      ],
      "execution_count": null,
      "outputs": [
        {
          "output_type": "display_data",
          "data": {
            "image/png": "[encoded data removed]",
            "text/plain": [
              "<Figure size 1008x432 with 1 Axes>"
            ]
          },
          "metadata": {
            "tags": [],
            "needs_background": "light"
          }
        }
      ]
    },
    {
      "cell_type": "markdown",
      "metadata": {
        "id": "IWnK3k1aVmsc"
      },
      "source": [
        "- Çayın yanında en çok kahve alınıyor. Bu sebeple taleple orantılı bir şekilde pazarlama stratejisi geliştirilerek ürünler belli bir paket halinde yada farklı stratejiler ile ekonomik olarak kazanç sağlayacak şekilde satılabilir."
      ]
    },
    {
      "cell_type": "code",
      "metadata": {
        "id": "-KY_DFeinZtT",
        "colab": {
          "base_uri": "https://localhost:8080/"
        },
        "outputId": "47bb03f4-645b-4f05-f8ba-33570c301dbd"
      },
      "source": [
        "cay_birlesik.head(10)"
      ],
      "execution_count": null,
      "outputs": [
        {
          "output_type": "execute_result",
          "data": {
            "text/plain": [
              "Coffee           533\n",
              "Bread            284\n",
              "Cake             237\n",
              "Sandwich         150\n",
              "Cookies           97\n",
              "Soup              93\n",
              "Pastry            93\n",
              "Medialuna         81\n",
              "Scone             79\n",
              "Hot chocolate     77\n",
              "Name: Item, dtype: int64"
            ]
          },
          "metadata": {
            "tags": []
          },
          "execution_count": 226
        }
      ]
    },
    {
      "cell_type": "markdown",
      "metadata": {
        "id": "wZQlRLpuJ1DF"
      },
      "source": [
        "Şimdi, bir müşteri bir ürün satın alırsa daha sonra hangi ürünü alacağını anlamak için apriori algoritmasını çalıştırmamız gerekiyor."
      ]
    },
    {
      "cell_type": "code",
      "metadata": {
        "id": "TrGI4OPqXcy5"
      },
      "source": [
        "from mlxtend.frequent_patterns import apriori\n",
        "from mlxtend.frequent_patterns import association_rules"
      ],
      "execution_count": null,
      "outputs": []
    },
    {
      "cell_type": "code",
      "metadata": {
        "id": "am7kZkbRXd4O"
      },
      "source": [
        "hot_encoded_data = data.groupby(['Transaction', 'Item'])['Item'].count().unstack().reset_index().fillna(0).set_index('Transaction')"
      ],
      "execution_count": null,
      "outputs": []
    },
    {
      "cell_type": "code",
      "metadata": {
        "id": "lEpNZlHrXd1W",
        "colab": {
          "base_uri": "https://localhost:8080/",
          "height": 331
        },
        "outputId": "01b32c1a-dc9a-45aa-bb8d-1341576a4c2c"
      },
      "source": [
        "hot_encoded_data.head()"
      ],
      "execution_count": null,
      "outputs": [
        {
          "output_type": "execute_result",
          "data": {
            "text/html": [
              "<div>\n",
              "<style scoped>\n",
              "    .dataframe tbody tr th:only-of-type {\n",
              "        vertical-align: middle;\n",
              "    }\n",
              "\n",
              "    .dataframe tbody tr th {\n",
              "        vertical-align: top;\n",
              "    }\n",
              "\n",
              "    .dataframe thead th {\n",
              "        text-align: right;\n",
              "    }\n",
              "</style>\n",
              "<table border=\"1\" class=\"dataframe\">\n",
              "  <thead>\n",
              "    <tr style=\"text-align: right;\">\n",
              "      <th>Item</th>\n",
              "      <th>Adjustment</th>\n",
              "      <th>Afternoon with the baker</th>\n",
              "      <th>Alfajores</th>\n",
              "      <th>Argentina Night</th>\n",
              "      <th>Art Tray</th>\n",
              "      <th>Bacon</th>\n",
              "      <th>Baguette</th>\n",
              "      <th>Bakewell</th>\n",
              "      <th>Bare Popcorn</th>\n",
              "      <th>Basket</th>\n",
              "      <th>Bowl Nic Pitt</th>\n",
              "      <th>Bread</th>\n",
              "      <th>Bread Pudding</th>\n",
              "      <th>Brioche and salami</th>\n",
              "      <th>Brownie</th>\n",
              "      <th>Cake</th>\n",
              "      <th>Caramel bites</th>\n",
              "      <th>Cherry me Dried fruit</th>\n",
              "      <th>Chicken Stew</th>\n",
              "      <th>Chicken sand</th>\n",
              "      <th>Chimichurri Oil</th>\n",
              "      <th>Chocolates</th>\n",
              "      <th>Christmas common</th>\n",
              "      <th>Coffee</th>\n",
              "      <th>Coffee granules</th>\n",
              "      <th>Coke</th>\n",
              "      <th>Cookies</th>\n",
              "      <th>Crepes</th>\n",
              "      <th>Crisps</th>\n",
              "      <th>Drinking chocolate spoons</th>\n",
              "      <th>Duck egg</th>\n",
              "      <th>Dulce de Leche</th>\n",
              "      <th>Eggs</th>\n",
              "      <th>Ella's Kitchen Pouches</th>\n",
              "      <th>Empanadas</th>\n",
              "      <th>Extra Salami or Feta</th>\n",
              "      <th>Fairy Doors</th>\n",
              "      <th>Farm House</th>\n",
              "      <th>Focaccia</th>\n",
              "      <th>Frittata</th>\n",
              "      <th>...</th>\n",
              "      <th>Lemon and coconut</th>\n",
              "      <th>Medialuna</th>\n",
              "      <th>Mighty Protein</th>\n",
              "      <th>Mineral water</th>\n",
              "      <th>Mortimer</th>\n",
              "      <th>Muesli</th>\n",
              "      <th>Muffin</th>\n",
              "      <th>My-5 Fruit Shoot</th>\n",
              "      <th>Nomad bag</th>\n",
              "      <th>Olum &amp; polenta</th>\n",
              "      <th>Panatone</th>\n",
              "      <th>Pastry</th>\n",
              "      <th>Pick and Mix Bowls</th>\n",
              "      <th>Pintxos</th>\n",
              "      <th>Polenta</th>\n",
              "      <th>Postcard</th>\n",
              "      <th>Raspberry shortbread sandwich</th>\n",
              "      <th>Raw bars</th>\n",
              "      <th>Salad</th>\n",
              "      <th>Sandwich</th>\n",
              "      <th>Scandinavian</th>\n",
              "      <th>Scone</th>\n",
              "      <th>Siblings</th>\n",
              "      <th>Smoothies</th>\n",
              "      <th>Soup</th>\n",
              "      <th>Spanish Brunch</th>\n",
              "      <th>Spread</th>\n",
              "      <th>Tacos/Fajita</th>\n",
              "      <th>Tartine</th>\n",
              "      <th>Tea</th>\n",
              "      <th>The BART</th>\n",
              "      <th>The Nomad</th>\n",
              "      <th>Tiffin</th>\n",
              "      <th>Toast</th>\n",
              "      <th>Truffles</th>\n",
              "      <th>Tshirt</th>\n",
              "      <th>Valentine's card</th>\n",
              "      <th>Vegan Feast</th>\n",
              "      <th>Vegan mincepie</th>\n",
              "      <th>Victorian Sponge</th>\n",
              "    </tr>\n",
              "    <tr>\n",
              "      <th>Transaction</th>\n",
              "      <th></th>\n",
              "      <th></th>\n",
              "      <th></th>\n",
              "      <th></th>\n",
              "      <th></th>\n",
              "      <th></th>\n",
              "      <th></th>\n",
              "      <th></th>\n",
              "      <th></th>\n",
              "      <th></th>\n",
              "      <th></th>\n",
              "      <th></th>\n",
              "      <th></th>\n",
              "      <th></th>\n",
              "      <th></th>\n",
              "      <th></th>\n",
              "      <th></th>\n",
              "      <th></th>\n",
              "      <th></th>\n",
              "      <th></th>\n",
              "      <th></th>\n",
              "      <th></th>\n",
              "      <th></th>\n",
              "      <th></th>\n",
              "      <th></th>\n",
              "      <th></th>\n",
              "      <th></th>\n",
              "      <th></th>\n",
              "      <th></th>\n",
              "      <th></th>\n",
              "      <th></th>\n",
              "      <th></th>\n",
              "      <th></th>\n",
              "      <th></th>\n",
              "      <th></th>\n",
              "      <th></th>\n",
              "      <th></th>\n",
              "      <th></th>\n",
              "      <th></th>\n",
              "      <th></th>\n",
              "      <th></th>\n",
              "      <th></th>\n",
              "      <th></th>\n",
              "      <th></th>\n",
              "      <th></th>\n",
              "      <th></th>\n",
              "      <th></th>\n",
              "      <th></th>\n",
              "      <th></th>\n",
              "      <th></th>\n",
              "      <th></th>\n",
              "      <th></th>\n",
              "      <th></th>\n",
              "      <th></th>\n",
              "      <th></th>\n",
              "      <th></th>\n",
              "      <th></th>\n",
              "      <th></th>\n",
              "      <th></th>\n",
              "      <th></th>\n",
              "      <th></th>\n",
              "      <th></th>\n",
              "      <th></th>\n",
              "      <th></th>\n",
              "      <th></th>\n",
              "      <th></th>\n",
              "      <th></th>\n",
              "      <th></th>\n",
              "      <th></th>\n",
              "      <th></th>\n",
              "      <th></th>\n",
              "      <th></th>\n",
              "      <th></th>\n",
              "      <th></th>\n",
              "      <th></th>\n",
              "      <th></th>\n",
              "      <th></th>\n",
              "      <th></th>\n",
              "      <th></th>\n",
              "      <th></th>\n",
              "      <th></th>\n",
              "    </tr>\n",
              "  </thead>\n",
              "  <tbody>\n",
              "    <tr>\n",
              "      <th>1</th>\n",
              "      <td>0.0</td>\n",
              "      <td>0.0</td>\n",
              "      <td>0.0</td>\n",
              "      <td>0.0</td>\n",
              "      <td>0.0</td>\n",
              "      <td>0.0</td>\n",
              "      <td>0.0</td>\n",
              "      <td>0.0</td>\n",
              "      <td>0.0</td>\n",
              "      <td>0.0</td>\n",
              "      <td>0.0</td>\n",
              "      <td>1.0</td>\n",
              "      <td>0.0</td>\n",
              "      <td>0.0</td>\n",
              "      <td>0.0</td>\n",
              "      <td>0.0</td>\n",
              "      <td>0.0</td>\n",
              "      <td>0.0</td>\n",
              "      <td>0.0</td>\n",
              "      <td>0.0</td>\n",
              "      <td>0.0</td>\n",
              "      <td>0.0</td>\n",
              "      <td>0.0</td>\n",
              "      <td>0.0</td>\n",
              "      <td>0.0</td>\n",
              "      <td>0.0</td>\n",
              "      <td>0.0</td>\n",
              "      <td>0.0</td>\n",
              "      <td>0.0</td>\n",
              "      <td>0.0</td>\n",
              "      <td>0.0</td>\n",
              "      <td>0.0</td>\n",
              "      <td>0.0</td>\n",
              "      <td>0.0</td>\n",
              "      <td>0.0</td>\n",
              "      <td>0.0</td>\n",
              "      <td>0.0</td>\n",
              "      <td>0.0</td>\n",
              "      <td>0.0</td>\n",
              "      <td>0.0</td>\n",
              "      <td>...</td>\n",
              "      <td>0.0</td>\n",
              "      <td>0.0</td>\n",
              "      <td>0.0</td>\n",
              "      <td>0.0</td>\n",
              "      <td>0.0</td>\n",
              "      <td>0.0</td>\n",
              "      <td>0.0</td>\n",
              "      <td>0.0</td>\n",
              "      <td>0.0</td>\n",
              "      <td>0.0</td>\n",
              "      <td>0.0</td>\n",
              "      <td>0.0</td>\n",
              "      <td>0.0</td>\n",
              "      <td>0.0</td>\n",
              "      <td>0.0</td>\n",
              "      <td>0.0</td>\n",
              "      <td>0.0</td>\n",
              "      <td>0.0</td>\n",
              "      <td>0.0</td>\n",
              "      <td>0.0</td>\n",
              "      <td>0.0</td>\n",
              "      <td>0.0</td>\n",
              "      <td>0.0</td>\n",
              "      <td>0.0</td>\n",
              "      <td>0.0</td>\n",
              "      <td>0.0</td>\n",
              "      <td>0.0</td>\n",
              "      <td>0.0</td>\n",
              "      <td>0.0</td>\n",
              "      <td>0.0</td>\n",
              "      <td>0.0</td>\n",
              "      <td>0.0</td>\n",
              "      <td>0.0</td>\n",
              "      <td>0.0</td>\n",
              "      <td>0.0</td>\n",
              "      <td>0.0</td>\n",
              "      <td>0.0</td>\n",
              "      <td>0.0</td>\n",
              "      <td>0.0</td>\n",
              "      <td>0.0</td>\n",
              "    </tr>\n",
              "    <tr>\n",
              "      <th>2</th>\n",
              "      <td>0.0</td>\n",
              "      <td>0.0</td>\n",
              "      <td>0.0</td>\n",
              "      <td>0.0</td>\n",
              "      <td>0.0</td>\n",
              "      <td>0.0</td>\n",
              "      <td>0.0</td>\n",
              "      <td>0.0</td>\n",
              "      <td>0.0</td>\n",
              "      <td>0.0</td>\n",
              "      <td>0.0</td>\n",
              "      <td>0.0</td>\n",
              "      <td>0.0</td>\n",
              "      <td>0.0</td>\n",
              "      <td>0.0</td>\n",
              "      <td>0.0</td>\n",
              "      <td>0.0</td>\n",
              "      <td>0.0</td>\n",
              "      <td>0.0</td>\n",
              "      <td>0.0</td>\n",
              "      <td>0.0</td>\n",
              "      <td>0.0</td>\n",
              "      <td>0.0</td>\n",
              "      <td>0.0</td>\n",
              "      <td>0.0</td>\n",
              "      <td>0.0</td>\n",
              "      <td>0.0</td>\n",
              "      <td>0.0</td>\n",
              "      <td>0.0</td>\n",
              "      <td>0.0</td>\n",
              "      <td>0.0</td>\n",
              "      <td>0.0</td>\n",
              "      <td>0.0</td>\n",
              "      <td>0.0</td>\n",
              "      <td>0.0</td>\n",
              "      <td>0.0</td>\n",
              "      <td>0.0</td>\n",
              "      <td>0.0</td>\n",
              "      <td>0.0</td>\n",
              "      <td>0.0</td>\n",
              "      <td>...</td>\n",
              "      <td>0.0</td>\n",
              "      <td>0.0</td>\n",
              "      <td>0.0</td>\n",
              "      <td>0.0</td>\n",
              "      <td>0.0</td>\n",
              "      <td>0.0</td>\n",
              "      <td>0.0</td>\n",
              "      <td>0.0</td>\n",
              "      <td>0.0</td>\n",
              "      <td>0.0</td>\n",
              "      <td>0.0</td>\n",
              "      <td>0.0</td>\n",
              "      <td>0.0</td>\n",
              "      <td>0.0</td>\n",
              "      <td>0.0</td>\n",
              "      <td>0.0</td>\n",
              "      <td>0.0</td>\n",
              "      <td>0.0</td>\n",
              "      <td>0.0</td>\n",
              "      <td>0.0</td>\n",
              "      <td>2.0</td>\n",
              "      <td>0.0</td>\n",
              "      <td>0.0</td>\n",
              "      <td>0.0</td>\n",
              "      <td>0.0</td>\n",
              "      <td>0.0</td>\n",
              "      <td>0.0</td>\n",
              "      <td>0.0</td>\n",
              "      <td>0.0</td>\n",
              "      <td>0.0</td>\n",
              "      <td>0.0</td>\n",
              "      <td>0.0</td>\n",
              "      <td>0.0</td>\n",
              "      <td>0.0</td>\n",
              "      <td>0.0</td>\n",
              "      <td>0.0</td>\n",
              "      <td>0.0</td>\n",
              "      <td>0.0</td>\n",
              "      <td>0.0</td>\n",
              "      <td>0.0</td>\n",
              "    </tr>\n",
              "    <tr>\n",
              "      <th>3</th>\n",
              "      <td>0.0</td>\n",
              "      <td>0.0</td>\n",
              "      <td>0.0</td>\n",
              "      <td>0.0</td>\n",
              "      <td>0.0</td>\n",
              "      <td>0.0</td>\n",
              "      <td>0.0</td>\n",
              "      <td>0.0</td>\n",
              "      <td>0.0</td>\n",
              "      <td>0.0</td>\n",
              "      <td>0.0</td>\n",
              "      <td>0.0</td>\n",
              "      <td>0.0</td>\n",
              "      <td>0.0</td>\n",
              "      <td>0.0</td>\n",
              "      <td>0.0</td>\n",
              "      <td>0.0</td>\n",
              "      <td>0.0</td>\n",
              "      <td>0.0</td>\n",
              "      <td>0.0</td>\n",
              "      <td>0.0</td>\n",
              "      <td>0.0</td>\n",
              "      <td>0.0</td>\n",
              "      <td>0.0</td>\n",
              "      <td>0.0</td>\n",
              "      <td>0.0</td>\n",
              "      <td>1.0</td>\n",
              "      <td>0.0</td>\n",
              "      <td>0.0</td>\n",
              "      <td>0.0</td>\n",
              "      <td>0.0</td>\n",
              "      <td>0.0</td>\n",
              "      <td>0.0</td>\n",
              "      <td>0.0</td>\n",
              "      <td>0.0</td>\n",
              "      <td>0.0</td>\n",
              "      <td>0.0</td>\n",
              "      <td>0.0</td>\n",
              "      <td>0.0</td>\n",
              "      <td>0.0</td>\n",
              "      <td>...</td>\n",
              "      <td>0.0</td>\n",
              "      <td>0.0</td>\n",
              "      <td>0.0</td>\n",
              "      <td>0.0</td>\n",
              "      <td>0.0</td>\n",
              "      <td>0.0</td>\n",
              "      <td>0.0</td>\n",
              "      <td>0.0</td>\n",
              "      <td>0.0</td>\n",
              "      <td>0.0</td>\n",
              "      <td>0.0</td>\n",
              "      <td>0.0</td>\n",
              "      <td>0.0</td>\n",
              "      <td>0.0</td>\n",
              "      <td>0.0</td>\n",
              "      <td>0.0</td>\n",
              "      <td>0.0</td>\n",
              "      <td>0.0</td>\n",
              "      <td>0.0</td>\n",
              "      <td>0.0</td>\n",
              "      <td>0.0</td>\n",
              "      <td>0.0</td>\n",
              "      <td>0.0</td>\n",
              "      <td>0.0</td>\n",
              "      <td>0.0</td>\n",
              "      <td>0.0</td>\n",
              "      <td>0.0</td>\n",
              "      <td>0.0</td>\n",
              "      <td>0.0</td>\n",
              "      <td>0.0</td>\n",
              "      <td>0.0</td>\n",
              "      <td>0.0</td>\n",
              "      <td>0.0</td>\n",
              "      <td>0.0</td>\n",
              "      <td>0.0</td>\n",
              "      <td>0.0</td>\n",
              "      <td>0.0</td>\n",
              "      <td>0.0</td>\n",
              "      <td>0.0</td>\n",
              "      <td>0.0</td>\n",
              "    </tr>\n",
              "    <tr>\n",
              "      <th>4</th>\n",
              "      <td>0.0</td>\n",
              "      <td>0.0</td>\n",
              "      <td>0.0</td>\n",
              "      <td>0.0</td>\n",
              "      <td>0.0</td>\n",
              "      <td>0.0</td>\n",
              "      <td>0.0</td>\n",
              "      <td>0.0</td>\n",
              "      <td>0.0</td>\n",
              "      <td>0.0</td>\n",
              "      <td>0.0</td>\n",
              "      <td>0.0</td>\n",
              "      <td>0.0</td>\n",
              "      <td>0.0</td>\n",
              "      <td>0.0</td>\n",
              "      <td>0.0</td>\n",
              "      <td>0.0</td>\n",
              "      <td>0.0</td>\n",
              "      <td>0.0</td>\n",
              "      <td>0.0</td>\n",
              "      <td>0.0</td>\n",
              "      <td>0.0</td>\n",
              "      <td>0.0</td>\n",
              "      <td>0.0</td>\n",
              "      <td>0.0</td>\n",
              "      <td>0.0</td>\n",
              "      <td>0.0</td>\n",
              "      <td>0.0</td>\n",
              "      <td>0.0</td>\n",
              "      <td>0.0</td>\n",
              "      <td>0.0</td>\n",
              "      <td>0.0</td>\n",
              "      <td>0.0</td>\n",
              "      <td>0.0</td>\n",
              "      <td>0.0</td>\n",
              "      <td>0.0</td>\n",
              "      <td>0.0</td>\n",
              "      <td>0.0</td>\n",
              "      <td>0.0</td>\n",
              "      <td>0.0</td>\n",
              "      <td>...</td>\n",
              "      <td>0.0</td>\n",
              "      <td>0.0</td>\n",
              "      <td>0.0</td>\n",
              "      <td>0.0</td>\n",
              "      <td>0.0</td>\n",
              "      <td>0.0</td>\n",
              "      <td>1.0</td>\n",
              "      <td>0.0</td>\n",
              "      <td>0.0</td>\n",
              "      <td>0.0</td>\n",
              "      <td>0.0</td>\n",
              "      <td>0.0</td>\n",
              "      <td>0.0</td>\n",
              "      <td>0.0</td>\n",
              "      <td>0.0</td>\n",
              "      <td>0.0</td>\n",
              "      <td>0.0</td>\n",
              "      <td>0.0</td>\n",
              "      <td>0.0</td>\n",
              "      <td>0.0</td>\n",
              "      <td>0.0</td>\n",
              "      <td>0.0</td>\n",
              "      <td>0.0</td>\n",
              "      <td>0.0</td>\n",
              "      <td>0.0</td>\n",
              "      <td>0.0</td>\n",
              "      <td>0.0</td>\n",
              "      <td>0.0</td>\n",
              "      <td>0.0</td>\n",
              "      <td>0.0</td>\n",
              "      <td>0.0</td>\n",
              "      <td>0.0</td>\n",
              "      <td>0.0</td>\n",
              "      <td>0.0</td>\n",
              "      <td>0.0</td>\n",
              "      <td>0.0</td>\n",
              "      <td>0.0</td>\n",
              "      <td>0.0</td>\n",
              "      <td>0.0</td>\n",
              "      <td>0.0</td>\n",
              "    </tr>\n",
              "    <tr>\n",
              "      <th>5</th>\n",
              "      <td>0.0</td>\n",
              "      <td>0.0</td>\n",
              "      <td>0.0</td>\n",
              "      <td>0.0</td>\n",
              "      <td>0.0</td>\n",
              "      <td>0.0</td>\n",
              "      <td>0.0</td>\n",
              "      <td>0.0</td>\n",
              "      <td>0.0</td>\n",
              "      <td>0.0</td>\n",
              "      <td>0.0</td>\n",
              "      <td>1.0</td>\n",
              "      <td>0.0</td>\n",
              "      <td>0.0</td>\n",
              "      <td>0.0</td>\n",
              "      <td>0.0</td>\n",
              "      <td>0.0</td>\n",
              "      <td>0.0</td>\n",
              "      <td>0.0</td>\n",
              "      <td>0.0</td>\n",
              "      <td>0.0</td>\n",
              "      <td>0.0</td>\n",
              "      <td>0.0</td>\n",
              "      <td>1.0</td>\n",
              "      <td>0.0</td>\n",
              "      <td>0.0</td>\n",
              "      <td>0.0</td>\n",
              "      <td>0.0</td>\n",
              "      <td>0.0</td>\n",
              "      <td>0.0</td>\n",
              "      <td>0.0</td>\n",
              "      <td>0.0</td>\n",
              "      <td>0.0</td>\n",
              "      <td>0.0</td>\n",
              "      <td>0.0</td>\n",
              "      <td>0.0</td>\n",
              "      <td>0.0</td>\n",
              "      <td>0.0</td>\n",
              "      <td>0.0</td>\n",
              "      <td>0.0</td>\n",
              "      <td>...</td>\n",
              "      <td>0.0</td>\n",
              "      <td>0.0</td>\n",
              "      <td>0.0</td>\n",
              "      <td>0.0</td>\n",
              "      <td>0.0</td>\n",
              "      <td>0.0</td>\n",
              "      <td>0.0</td>\n",
              "      <td>0.0</td>\n",
              "      <td>0.0</td>\n",
              "      <td>0.0</td>\n",
              "      <td>0.0</td>\n",
              "      <td>1.0</td>\n",
              "      <td>0.0</td>\n",
              "      <td>0.0</td>\n",
              "      <td>0.0</td>\n",
              "      <td>0.0</td>\n",
              "      <td>0.0</td>\n",
              "      <td>0.0</td>\n",
              "      <td>0.0</td>\n",
              "      <td>0.0</td>\n",
              "      <td>0.0</td>\n",
              "      <td>0.0</td>\n",
              "      <td>0.0</td>\n",
              "      <td>0.0</td>\n",
              "      <td>0.0</td>\n",
              "      <td>0.0</td>\n",
              "      <td>0.0</td>\n",
              "      <td>0.0</td>\n",
              "      <td>0.0</td>\n",
              "      <td>0.0</td>\n",
              "      <td>0.0</td>\n",
              "      <td>0.0</td>\n",
              "      <td>0.0</td>\n",
              "      <td>0.0</td>\n",
              "      <td>0.0</td>\n",
              "      <td>0.0</td>\n",
              "      <td>0.0</td>\n",
              "      <td>0.0</td>\n",
              "      <td>0.0</td>\n",
              "      <td>0.0</td>\n",
              "    </tr>\n",
              "  </tbody>\n",
              "</table>\n",
              "<p>5 rows × 94 columns</p>\n",
              "</div>"
            ],
            "text/plain": [
              "Item         Adjustment  ...  Victorian Sponge\n",
              "Transaction              ...                  \n",
              "1                   0.0  ...               0.0\n",
              "2                   0.0  ...               0.0\n",
              "3                   0.0  ...               0.0\n",
              "4                   0.0  ...               0.0\n",
              "5                   0.0  ...               0.0\n",
              "\n",
              "[5 rows x 94 columns]"
            ]
          },
          "metadata": {
            "tags": []
          },
          "execution_count": 78
        }
      ]
    },
    {
      "cell_type": "code",
      "metadata": {
        "id": "9nrO7D1lXdyV"
      },
      "source": [
        "def encode_units(x):\n",
        "    if x <= 0:\n",
        "        return 0\n",
        "    if x >= 1:\n",
        "        return 1\n",
        "hot_encoded_data = hot_encoded_data.applymap(encode_units)"
      ],
      "execution_count": null,
      "outputs": []
    },
    {
      "cell_type": "code",
      "metadata": {
        "id": "eRzVFPkuXdvZ",
        "colab": {
          "base_uri": "https://localhost:8080/",
          "height": 355
        },
        "outputId": "752c3ac1-84f9-4c9d-bc35-ea60d8959bef"
      },
      "source": [
        "frequent_itemsets = apriori(hot_encoded_data, min_support=0.01, use_colnames=True)\n",
        "frequent_itemsets.head(10)"
      ],
      "execution_count": null,
      "outputs": [
        {
          "output_type": "execute_result",
          "data": {
            "text/html": [
              "<div>\n",
              "<style scoped>\n",
              "    .dataframe tbody tr th:only-of-type {\n",
              "        vertical-align: middle;\n",
              "    }\n",
              "\n",
              "    .dataframe tbody tr th {\n",
              "        vertical-align: top;\n",
              "    }\n",
              "\n",
              "    .dataframe thead th {\n",
              "        text-align: right;\n",
              "    }\n",
              "</style>\n",
              "<table border=\"1\" class=\"dataframe\">\n",
              "  <thead>\n",
              "    <tr style=\"text-align: right;\">\n",
              "      <th></th>\n",
              "      <th>support</th>\n",
              "      <th>itemsets</th>\n",
              "    </tr>\n",
              "  </thead>\n",
              "  <tbody>\n",
              "    <tr>\n",
              "      <th>0</th>\n",
              "      <td>0.036344</td>\n",
              "      <td>(Alfajores)</td>\n",
              "    </tr>\n",
              "    <tr>\n",
              "      <th>1</th>\n",
              "      <td>0.016059</td>\n",
              "      <td>(Baguette)</td>\n",
              "    </tr>\n",
              "    <tr>\n",
              "      <th>2</th>\n",
              "      <td>0.327205</td>\n",
              "      <td>(Bread)</td>\n",
              "    </tr>\n",
              "    <tr>\n",
              "      <th>3</th>\n",
              "      <td>0.040042</td>\n",
              "      <td>(Brownie)</td>\n",
              "    </tr>\n",
              "    <tr>\n",
              "      <th>4</th>\n",
              "      <td>0.103856</td>\n",
              "      <td>(Cake)</td>\n",
              "    </tr>\n",
              "    <tr>\n",
              "      <th>5</th>\n",
              "      <td>0.012995</td>\n",
              "      <td>(Chicken Stew)</td>\n",
              "    </tr>\n",
              "    <tr>\n",
              "      <th>6</th>\n",
              "      <td>0.478394</td>\n",
              "      <td>(Coffee)</td>\n",
              "    </tr>\n",
              "    <tr>\n",
              "      <th>7</th>\n",
              "      <td>0.019440</td>\n",
              "      <td>(Coke)</td>\n",
              "    </tr>\n",
              "    <tr>\n",
              "      <th>8</th>\n",
              "      <td>0.054411</td>\n",
              "      <td>(Cookies)</td>\n",
              "    </tr>\n",
              "    <tr>\n",
              "      <th>9</th>\n",
              "      <td>0.039197</td>\n",
              "      <td>(Farm House)</td>\n",
              "    </tr>\n",
              "  </tbody>\n",
              "</table>\n",
              "</div>"
            ],
            "text/plain": [
              "    support        itemsets\n",
              "0  0.036344     (Alfajores)\n",
              "1  0.016059      (Baguette)\n",
              "2  0.327205         (Bread)\n",
              "3  0.040042       (Brownie)\n",
              "4  0.103856          (Cake)\n",
              "5  0.012995  (Chicken Stew)\n",
              "6  0.478394        (Coffee)\n",
              "7  0.019440          (Coke)\n",
              "8  0.054411       (Cookies)\n",
              "9  0.039197    (Farm House)"
            ]
          },
          "metadata": {
            "tags": []
          },
          "execution_count": 81
        }
      ]
    },
    {
      "cell_type": "markdown",
      "metadata": {
        "id": "DRRoXRMIEZ9x"
      },
      "source": [
        "- **support :** bir öğenin varsayılan popülerliğini ifade eder ve belirli bir öğeyi içeren işlem sayısının toplam işlem sayısına bölünmesiyle hesaplanabilir.\n",
        "\n",
        "- **confidence :** A öğesi satın alınırsa bir B öğesinin de satın alınma olasılığını ifade eder. A ve B'nin birlikte satın alındığı işlem sayısının, A'nın satın alındığı toplam işlem sayısına bölünmesiyle hesaplanabilir.\n",
        "\n",
        "- **lift :** A öğesi satıldığında B'nin satış oranındaki artışı ifade eder. \n",
        "\n",
        "- **laverage :** birlikte görünen A ve C'nin gözlemlenen frekansı ile A ve C bağımsız olsaydı beklenen frekans arasındaki farkı hesaplar\n",
        "\n"
      ]
    },
    {
      "cell_type": "code",
      "metadata": {
        "colab": {
          "base_uri": "https://localhost:8080/",
          "height": 355
        },
        "id": "n2_DmaVBDSgq",
        "outputId": "d141c248-6344-48e6-87f7-45b2bc7a1dcf"
      },
      "source": [
        "rules = association_rules(frequent_itemsets, metric='confidence', min_threshold=0.5)\n",
        "rules.head(10)"
      ],
      "execution_count": null,
      "outputs": [
        {
          "output_type": "execute_result",
          "data": {
            "text/html": [
              "<div>\n",
              "<style scoped>\n",
              "    .dataframe tbody tr th:only-of-type {\n",
              "        vertical-align: middle;\n",
              "    }\n",
              "\n",
              "    .dataframe tbody tr th {\n",
              "        vertical-align: top;\n",
              "    }\n",
              "\n",
              "    .dataframe thead th {\n",
              "        text-align: right;\n",
              "    }\n",
              "</style>\n",
              "<table border=\"1\" class=\"dataframe\">\n",
              "  <thead>\n",
              "    <tr style=\"text-align: right;\">\n",
              "      <th></th>\n",
              "      <th>antecedents</th>\n",
              "      <th>consequents</th>\n",
              "      <th>antecedent support</th>\n",
              "      <th>consequent support</th>\n",
              "      <th>support</th>\n",
              "      <th>confidence</th>\n",
              "      <th>lift</th>\n",
              "      <th>leverage</th>\n",
              "      <th>conviction</th>\n",
              "    </tr>\n",
              "  </thead>\n",
              "  <tbody>\n",
              "    <tr>\n",
              "      <th>0</th>\n",
              "      <td>(Alfajores)</td>\n",
              "      <td>(Coffee)</td>\n",
              "      <td>0.036344</td>\n",
              "      <td>0.478394</td>\n",
              "      <td>0.019651</td>\n",
              "      <td>0.540698</td>\n",
              "      <td>1.130235</td>\n",
              "      <td>0.002264</td>\n",
              "      <td>1.135648</td>\n",
              "    </tr>\n",
              "    <tr>\n",
              "      <th>1</th>\n",
              "      <td>(Cake)</td>\n",
              "      <td>(Coffee)</td>\n",
              "      <td>0.103856</td>\n",
              "      <td>0.478394</td>\n",
              "      <td>0.054728</td>\n",
              "      <td>0.526958</td>\n",
              "      <td>1.101515</td>\n",
              "      <td>0.005044</td>\n",
              "      <td>1.102664</td>\n",
              "    </tr>\n",
              "    <tr>\n",
              "      <th>2</th>\n",
              "      <td>(Cookies)</td>\n",
              "      <td>(Coffee)</td>\n",
              "      <td>0.054411</td>\n",
              "      <td>0.478394</td>\n",
              "      <td>0.028209</td>\n",
              "      <td>0.518447</td>\n",
              "      <td>1.083723</td>\n",
              "      <td>0.002179</td>\n",
              "      <td>1.083174</td>\n",
              "    </tr>\n",
              "    <tr>\n",
              "      <th>3</th>\n",
              "      <td>(Hot chocolate)</td>\n",
              "      <td>(Coffee)</td>\n",
              "      <td>0.058320</td>\n",
              "      <td>0.478394</td>\n",
              "      <td>0.029583</td>\n",
              "      <td>0.507246</td>\n",
              "      <td>1.060311</td>\n",
              "      <td>0.001683</td>\n",
              "      <td>1.058553</td>\n",
              "    </tr>\n",
              "    <tr>\n",
              "      <th>4</th>\n",
              "      <td>(Juice)</td>\n",
              "      <td>(Coffee)</td>\n",
              "      <td>0.038563</td>\n",
              "      <td>0.478394</td>\n",
              "      <td>0.020602</td>\n",
              "      <td>0.534247</td>\n",
              "      <td>1.116750</td>\n",
              "      <td>0.002154</td>\n",
              "      <td>1.119919</td>\n",
              "    </tr>\n",
              "    <tr>\n",
              "      <th>5</th>\n",
              "      <td>(Medialuna)</td>\n",
              "      <td>(Coffee)</td>\n",
              "      <td>0.061807</td>\n",
              "      <td>0.478394</td>\n",
              "      <td>0.035182</td>\n",
              "      <td>0.569231</td>\n",
              "      <td>1.189878</td>\n",
              "      <td>0.005614</td>\n",
              "      <td>1.210871</td>\n",
              "    </tr>\n",
              "    <tr>\n",
              "      <th>6</th>\n",
              "      <td>(Pastry)</td>\n",
              "      <td>(Coffee)</td>\n",
              "      <td>0.086107</td>\n",
              "      <td>0.478394</td>\n",
              "      <td>0.047544</td>\n",
              "      <td>0.552147</td>\n",
              "      <td>1.154168</td>\n",
              "      <td>0.006351</td>\n",
              "      <td>1.164682</td>\n",
              "    </tr>\n",
              "    <tr>\n",
              "      <th>7</th>\n",
              "      <td>(Sandwich)</td>\n",
              "      <td>(Coffee)</td>\n",
              "      <td>0.071844</td>\n",
              "      <td>0.478394</td>\n",
              "      <td>0.038246</td>\n",
              "      <td>0.532353</td>\n",
              "      <td>1.112792</td>\n",
              "      <td>0.003877</td>\n",
              "      <td>1.115384</td>\n",
              "    </tr>\n",
              "    <tr>\n",
              "      <th>8</th>\n",
              "      <td>(Scone)</td>\n",
              "      <td>(Coffee)</td>\n",
              "      <td>0.034548</td>\n",
              "      <td>0.478394</td>\n",
              "      <td>0.018067</td>\n",
              "      <td>0.522936</td>\n",
              "      <td>1.093107</td>\n",
              "      <td>0.001539</td>\n",
              "      <td>1.093366</td>\n",
              "    </tr>\n",
              "    <tr>\n",
              "      <th>9</th>\n",
              "      <td>(Spanish Brunch)</td>\n",
              "      <td>(Coffee)</td>\n",
              "      <td>0.018172</td>\n",
              "      <td>0.478394</td>\n",
              "      <td>0.010882</td>\n",
              "      <td>0.598837</td>\n",
              "      <td>1.251766</td>\n",
              "      <td>0.002189</td>\n",
              "      <td>1.300235</td>\n",
              "    </tr>\n",
              "  </tbody>\n",
              "</table>\n",
              "</div>"
            ],
            "text/plain": [
              "        antecedents consequents  ...  leverage  conviction\n",
              "0       (Alfajores)    (Coffee)  ...  0.002264    1.135648\n",
              "1            (Cake)    (Coffee)  ...  0.005044    1.102664\n",
              "2         (Cookies)    (Coffee)  ...  0.002179    1.083174\n",
              "3   (Hot chocolate)    (Coffee)  ...  0.001683    1.058553\n",
              "4           (Juice)    (Coffee)  ...  0.002154    1.119919\n",
              "5       (Medialuna)    (Coffee)  ...  0.005614    1.210871\n",
              "6          (Pastry)    (Coffee)  ...  0.006351    1.164682\n",
              "7        (Sandwich)    (Coffee)  ...  0.003877    1.115384\n",
              "8           (Scone)    (Coffee)  ...  0.001539    1.093366\n",
              "9  (Spanish Brunch)    (Coffee)  ...  0.002189    1.300235\n",
              "\n",
              "[10 rows x 9 columns]"
            ]
          },
          "metadata": {
            "tags": []
          },
          "execution_count": 85
        }
      ]
    },
    {
      "cell_type": "code",
      "metadata": {
        "colab": {
          "base_uri": "https://localhost:8080/",
          "height": 385
        },
        "id": "FWccaLhiTh9g",
        "outputId": "6c13d48e-9a65-4c76-c66f-0d8db5fdb33e"
      },
      "source": [
        "rules = rules.sort_values(['confidence'], ascending=False)\n",
        "rules.head(20)"
      ],
      "execution_count": null,
      "outputs": [
        {
          "output_type": "execute_result",
          "data": {
            "text/html": [
              "<div>\n",
              "<style scoped>\n",
              "    .dataframe tbody tr th:only-of-type {\n",
              "        vertical-align: middle;\n",
              "    }\n",
              "\n",
              "    .dataframe tbody tr th {\n",
              "        vertical-align: top;\n",
              "    }\n",
              "\n",
              "    .dataframe thead th {\n",
              "        text-align: right;\n",
              "    }\n",
              "</style>\n",
              "<table border=\"1\" class=\"dataframe\">\n",
              "  <thead>\n",
              "    <tr style=\"text-align: right;\">\n",
              "      <th></th>\n",
              "      <th>antecedents</th>\n",
              "      <th>consequents</th>\n",
              "      <th>antecedent support</th>\n",
              "      <th>consequent support</th>\n",
              "      <th>support</th>\n",
              "      <th>confidence</th>\n",
              "      <th>lift</th>\n",
              "      <th>leverage</th>\n",
              "      <th>conviction</th>\n",
              "    </tr>\n",
              "  </thead>\n",
              "  <tbody>\n",
              "    <tr>\n",
              "      <th>10</th>\n",
              "      <td>(Toast)</td>\n",
              "      <td>(Coffee)</td>\n",
              "      <td>0.033597</td>\n",
              "      <td>0.478394</td>\n",
              "      <td>0.023666</td>\n",
              "      <td>0.704403</td>\n",
              "      <td>1.472431</td>\n",
              "      <td>0.007593</td>\n",
              "      <td>1.764582</td>\n",
              "    </tr>\n",
              "    <tr>\n",
              "      <th>9</th>\n",
              "      <td>(Spanish Brunch)</td>\n",
              "      <td>(Coffee)</td>\n",
              "      <td>0.018172</td>\n",
              "      <td>0.478394</td>\n",
              "      <td>0.010882</td>\n",
              "      <td>0.598837</td>\n",
              "      <td>1.251766</td>\n",
              "      <td>0.002189</td>\n",
              "      <td>1.300235</td>\n",
              "    </tr>\n",
              "    <tr>\n",
              "      <th>5</th>\n",
              "      <td>(Medialuna)</td>\n",
              "      <td>(Coffee)</td>\n",
              "      <td>0.061807</td>\n",
              "      <td>0.478394</td>\n",
              "      <td>0.035182</td>\n",
              "      <td>0.569231</td>\n",
              "      <td>1.189878</td>\n",
              "      <td>0.005614</td>\n",
              "      <td>1.210871</td>\n",
              "    </tr>\n",
              "    <tr>\n",
              "      <th>6</th>\n",
              "      <td>(Pastry)</td>\n",
              "      <td>(Coffee)</td>\n",
              "      <td>0.086107</td>\n",
              "      <td>0.478394</td>\n",
              "      <td>0.047544</td>\n",
              "      <td>0.552147</td>\n",
              "      <td>1.154168</td>\n",
              "      <td>0.006351</td>\n",
              "      <td>1.164682</td>\n",
              "    </tr>\n",
              "    <tr>\n",
              "      <th>0</th>\n",
              "      <td>(Alfajores)</td>\n",
              "      <td>(Coffee)</td>\n",
              "      <td>0.036344</td>\n",
              "      <td>0.478394</td>\n",
              "      <td>0.019651</td>\n",
              "      <td>0.540698</td>\n",
              "      <td>1.130235</td>\n",
              "      <td>0.002264</td>\n",
              "      <td>1.135648</td>\n",
              "    </tr>\n",
              "    <tr>\n",
              "      <th>4</th>\n",
              "      <td>(Juice)</td>\n",
              "      <td>(Coffee)</td>\n",
              "      <td>0.038563</td>\n",
              "      <td>0.478394</td>\n",
              "      <td>0.020602</td>\n",
              "      <td>0.534247</td>\n",
              "      <td>1.116750</td>\n",
              "      <td>0.002154</td>\n",
              "      <td>1.119919</td>\n",
              "    </tr>\n",
              "    <tr>\n",
              "      <th>7</th>\n",
              "      <td>(Sandwich)</td>\n",
              "      <td>(Coffee)</td>\n",
              "      <td>0.071844</td>\n",
              "      <td>0.478394</td>\n",
              "      <td>0.038246</td>\n",
              "      <td>0.532353</td>\n",
              "      <td>1.112792</td>\n",
              "      <td>0.003877</td>\n",
              "      <td>1.115384</td>\n",
              "    </tr>\n",
              "    <tr>\n",
              "      <th>1</th>\n",
              "      <td>(Cake)</td>\n",
              "      <td>(Coffee)</td>\n",
              "      <td>0.103856</td>\n",
              "      <td>0.478394</td>\n",
              "      <td>0.054728</td>\n",
              "      <td>0.526958</td>\n",
              "      <td>1.101515</td>\n",
              "      <td>0.005044</td>\n",
              "      <td>1.102664</td>\n",
              "    </tr>\n",
              "    <tr>\n",
              "      <th>8</th>\n",
              "      <td>(Scone)</td>\n",
              "      <td>(Coffee)</td>\n",
              "      <td>0.034548</td>\n",
              "      <td>0.478394</td>\n",
              "      <td>0.018067</td>\n",
              "      <td>0.522936</td>\n",
              "      <td>1.093107</td>\n",
              "      <td>0.001539</td>\n",
              "      <td>1.093366</td>\n",
              "    </tr>\n",
              "    <tr>\n",
              "      <th>2</th>\n",
              "      <td>(Cookies)</td>\n",
              "      <td>(Coffee)</td>\n",
              "      <td>0.054411</td>\n",
              "      <td>0.478394</td>\n",
              "      <td>0.028209</td>\n",
              "      <td>0.518447</td>\n",
              "      <td>1.083723</td>\n",
              "      <td>0.002179</td>\n",
              "      <td>1.083174</td>\n",
              "    </tr>\n",
              "    <tr>\n",
              "      <th>3</th>\n",
              "      <td>(Hot chocolate)</td>\n",
              "      <td>(Coffee)</td>\n",
              "      <td>0.058320</td>\n",
              "      <td>0.478394</td>\n",
              "      <td>0.029583</td>\n",
              "      <td>0.507246</td>\n",
              "      <td>1.060311</td>\n",
              "      <td>0.001683</td>\n",
              "      <td>1.058553</td>\n",
              "    </tr>\n",
              "  </tbody>\n",
              "</table>\n",
              "</div>"
            ],
            "text/plain": [
              "         antecedents consequents  ...  leverage  conviction\n",
              "10           (Toast)    (Coffee)  ...  0.007593    1.764582\n",
              "9   (Spanish Brunch)    (Coffee)  ...  0.002189    1.300235\n",
              "5        (Medialuna)    (Coffee)  ...  0.005614    1.210871\n",
              "6           (Pastry)    (Coffee)  ...  0.006351    1.164682\n",
              "0        (Alfajores)    (Coffee)  ...  0.002264    1.135648\n",
              "4            (Juice)    (Coffee)  ...  0.002154    1.119919\n",
              "7         (Sandwich)    (Coffee)  ...  0.003877    1.115384\n",
              "1             (Cake)    (Coffee)  ...  0.005044    1.102664\n",
              "8            (Scone)    (Coffee)  ...  0.001539    1.093366\n",
              "2          (Cookies)    (Coffee)  ...  0.002179    1.083174\n",
              "3    (Hot chocolate)    (Coffee)  ...  0.001683    1.058553\n",
              "\n",
              "[11 rows x 9 columns]"
            ]
          },
          "metadata": {
            "tags": []
          },
          "execution_count": 86
        }
      ]
    },
    {
      "cell_type": "code",
      "metadata": {
        "id": "SkUCyOYJX4dC",
        "colab": {
          "base_uri": "https://localhost:8080/",
          "height": 355
        },
        "outputId": "8eb51be3-aa0e-45fe-8693-ecaf6acf6db0"
      },
      "source": [
        "rules = association_rules(frequent_itemsets, metric='lift', min_threshold=1)\n",
        "rules.head(10)"
      ],
      "execution_count": null,
      "outputs": [
        {
          "output_type": "execute_result",
          "data": {
            "text/html": [
              "<div>\n",
              "<style scoped>\n",
              "    .dataframe tbody tr th:only-of-type {\n",
              "        vertical-align: middle;\n",
              "    }\n",
              "\n",
              "    .dataframe tbody tr th {\n",
              "        vertical-align: top;\n",
              "    }\n",
              "\n",
              "    .dataframe thead th {\n",
              "        text-align: right;\n",
              "    }\n",
              "</style>\n",
              "<table border=\"1\" class=\"dataframe\">\n",
              "  <thead>\n",
              "    <tr style=\"text-align: right;\">\n",
              "      <th></th>\n",
              "      <th>antecedents</th>\n",
              "      <th>consequents</th>\n",
              "      <th>antecedent support</th>\n",
              "      <th>consequent support</th>\n",
              "      <th>support</th>\n",
              "      <th>confidence</th>\n",
              "      <th>lift</th>\n",
              "      <th>leverage</th>\n",
              "      <th>conviction</th>\n",
              "    </tr>\n",
              "  </thead>\n",
              "  <tbody>\n",
              "    <tr>\n",
              "      <th>0</th>\n",
              "      <td>(Alfajores)</td>\n",
              "      <td>(Coffee)</td>\n",
              "      <td>0.036344</td>\n",
              "      <td>0.478394</td>\n",
              "      <td>0.019651</td>\n",
              "      <td>0.540698</td>\n",
              "      <td>1.130235</td>\n",
              "      <td>0.002264</td>\n",
              "      <td>1.135648</td>\n",
              "    </tr>\n",
              "    <tr>\n",
              "      <th>1</th>\n",
              "      <td>(Coffee)</td>\n",
              "      <td>(Alfajores)</td>\n",
              "      <td>0.478394</td>\n",
              "      <td>0.036344</td>\n",
              "      <td>0.019651</td>\n",
              "      <td>0.041078</td>\n",
              "      <td>1.130235</td>\n",
              "      <td>0.002264</td>\n",
              "      <td>1.004936</td>\n",
              "    </tr>\n",
              "    <tr>\n",
              "      <th>2</th>\n",
              "      <td>(Bread)</td>\n",
              "      <td>(Pastry)</td>\n",
              "      <td>0.327205</td>\n",
              "      <td>0.086107</td>\n",
              "      <td>0.029160</td>\n",
              "      <td>0.089119</td>\n",
              "      <td>1.034977</td>\n",
              "      <td>0.000985</td>\n",
              "      <td>1.003306</td>\n",
              "    </tr>\n",
              "    <tr>\n",
              "      <th>3</th>\n",
              "      <td>(Pastry)</td>\n",
              "      <td>(Bread)</td>\n",
              "      <td>0.086107</td>\n",
              "      <td>0.327205</td>\n",
              "      <td>0.029160</td>\n",
              "      <td>0.338650</td>\n",
              "      <td>1.034977</td>\n",
              "      <td>0.000985</td>\n",
              "      <td>1.017305</td>\n",
              "    </tr>\n",
              "    <tr>\n",
              "      <th>4</th>\n",
              "      <td>(Brownie)</td>\n",
              "      <td>(Coffee)</td>\n",
              "      <td>0.040042</td>\n",
              "      <td>0.478394</td>\n",
              "      <td>0.019651</td>\n",
              "      <td>0.490765</td>\n",
              "      <td>1.025860</td>\n",
              "      <td>0.000495</td>\n",
              "      <td>1.024293</td>\n",
              "    </tr>\n",
              "    <tr>\n",
              "      <th>5</th>\n",
              "      <td>(Coffee)</td>\n",
              "      <td>(Brownie)</td>\n",
              "      <td>0.478394</td>\n",
              "      <td>0.040042</td>\n",
              "      <td>0.019651</td>\n",
              "      <td>0.041078</td>\n",
              "      <td>1.025860</td>\n",
              "      <td>0.000495</td>\n",
              "      <td>1.001080</td>\n",
              "    </tr>\n",
              "    <tr>\n",
              "      <th>6</th>\n",
              "      <td>(Cake)</td>\n",
              "      <td>(Coffee)</td>\n",
              "      <td>0.103856</td>\n",
              "      <td>0.478394</td>\n",
              "      <td>0.054728</td>\n",
              "      <td>0.526958</td>\n",
              "      <td>1.101515</td>\n",
              "      <td>0.005044</td>\n",
              "      <td>1.102664</td>\n",
              "    </tr>\n",
              "    <tr>\n",
              "      <th>7</th>\n",
              "      <td>(Coffee)</td>\n",
              "      <td>(Cake)</td>\n",
              "      <td>0.478394</td>\n",
              "      <td>0.103856</td>\n",
              "      <td>0.054728</td>\n",
              "      <td>0.114399</td>\n",
              "      <td>1.101515</td>\n",
              "      <td>0.005044</td>\n",
              "      <td>1.011905</td>\n",
              "    </tr>\n",
              "    <tr>\n",
              "      <th>8</th>\n",
              "      <td>(Hot chocolate)</td>\n",
              "      <td>(Cake)</td>\n",
              "      <td>0.058320</td>\n",
              "      <td>0.103856</td>\n",
              "      <td>0.011410</td>\n",
              "      <td>0.195652</td>\n",
              "      <td>1.883874</td>\n",
              "      <td>0.005354</td>\n",
              "      <td>1.114125</td>\n",
              "    </tr>\n",
              "    <tr>\n",
              "      <th>9</th>\n",
              "      <td>(Cake)</td>\n",
              "      <td>(Hot chocolate)</td>\n",
              "      <td>0.103856</td>\n",
              "      <td>0.058320</td>\n",
              "      <td>0.011410</td>\n",
              "      <td>0.109868</td>\n",
              "      <td>1.883874</td>\n",
              "      <td>0.005354</td>\n",
              "      <td>1.057910</td>\n",
              "    </tr>\n",
              "  </tbody>\n",
              "</table>\n",
              "</div>"
            ],
            "text/plain": [
              "       antecedents      consequents  ...  leverage  conviction\n",
              "0      (Alfajores)         (Coffee)  ...  0.002264    1.135648\n",
              "1         (Coffee)      (Alfajores)  ...  0.002264    1.004936\n",
              "2          (Bread)         (Pastry)  ...  0.000985    1.003306\n",
              "3         (Pastry)          (Bread)  ...  0.000985    1.017305\n",
              "4        (Brownie)         (Coffee)  ...  0.000495    1.024293\n",
              "5         (Coffee)        (Brownie)  ...  0.000495    1.001080\n",
              "6           (Cake)         (Coffee)  ...  0.005044    1.102664\n",
              "7         (Coffee)           (Cake)  ...  0.005044    1.011905\n",
              "8  (Hot chocolate)           (Cake)  ...  0.005354    1.114125\n",
              "9           (Cake)  (Hot chocolate)  ...  0.005354    1.057910\n",
              "\n",
              "[10 rows x 9 columns]"
            ]
          },
          "metadata": {
            "tags": []
          },
          "execution_count": 87
        }
      ]
    },
    {
      "cell_type": "code",
      "metadata": {
        "colab": {
          "base_uri": "https://localhost:8080/",
          "height": 662
        },
        "id": "bx2k_eL4U_T_",
        "outputId": "ef5e9c1b-f696-40ca-f13f-0c6d5b87845e"
      },
      "source": [
        "rules = rules.sort_values(['lift'], ascending=False)\n",
        "rules.head(20)"
      ],
      "execution_count": null,
      "outputs": [
        {
          "output_type": "execute_result",
          "data": {
            "text/html": [
              "<div>\n",
              "<style scoped>\n",
              "    .dataframe tbody tr th:only-of-type {\n",
              "        vertical-align: middle;\n",
              "    }\n",
              "\n",
              "    .dataframe tbody tr th {\n",
              "        vertical-align: top;\n",
              "    }\n",
              "\n",
              "    .dataframe thead th {\n",
              "        text-align: right;\n",
              "    }\n",
              "</style>\n",
              "<table border=\"1\" class=\"dataframe\">\n",
              "  <thead>\n",
              "    <tr style=\"text-align: right;\">\n",
              "      <th></th>\n",
              "      <th>antecedents</th>\n",
              "      <th>consequents</th>\n",
              "      <th>antecedent support</th>\n",
              "      <th>consequent support</th>\n",
              "      <th>support</th>\n",
              "      <th>confidence</th>\n",
              "      <th>lift</th>\n",
              "      <th>leverage</th>\n",
              "      <th>conviction</th>\n",
              "    </tr>\n",
              "  </thead>\n",
              "  <tbody>\n",
              "    <tr>\n",
              "      <th>41</th>\n",
              "      <td>(Cake)</td>\n",
              "      <td>(Tea, Coffee)</td>\n",
              "      <td>0.103856</td>\n",
              "      <td>0.049868</td>\n",
              "      <td>0.010037</td>\n",
              "      <td>0.096643</td>\n",
              "      <td>1.937977</td>\n",
              "      <td>0.004858</td>\n",
              "      <td>1.051779</td>\n",
              "    </tr>\n",
              "    <tr>\n",
              "      <th>38</th>\n",
              "      <td>(Tea, Coffee)</td>\n",
              "      <td>(Cake)</td>\n",
              "      <td>0.049868</td>\n",
              "      <td>0.103856</td>\n",
              "      <td>0.010037</td>\n",
              "      <td>0.201271</td>\n",
              "      <td>1.937977</td>\n",
              "      <td>0.004858</td>\n",
              "      <td>1.121962</td>\n",
              "    </tr>\n",
              "    <tr>\n",
              "      <th>9</th>\n",
              "      <td>(Cake)</td>\n",
              "      <td>(Hot chocolate)</td>\n",
              "      <td>0.103856</td>\n",
              "      <td>0.058320</td>\n",
              "      <td>0.011410</td>\n",
              "      <td>0.109868</td>\n",
              "      <td>1.883874</td>\n",
              "      <td>0.005354</td>\n",
              "      <td>1.057910</td>\n",
              "    </tr>\n",
              "    <tr>\n",
              "      <th>8</th>\n",
              "      <td>(Hot chocolate)</td>\n",
              "      <td>(Cake)</td>\n",
              "      <td>0.058320</td>\n",
              "      <td>0.103856</td>\n",
              "      <td>0.011410</td>\n",
              "      <td>0.195652</td>\n",
              "      <td>1.883874</td>\n",
              "      <td>0.005354</td>\n",
              "      <td>1.114125</td>\n",
              "    </tr>\n",
              "    <tr>\n",
              "      <th>10</th>\n",
              "      <td>(Tea)</td>\n",
              "      <td>(Cake)</td>\n",
              "      <td>0.142631</td>\n",
              "      <td>0.103856</td>\n",
              "      <td>0.023772</td>\n",
              "      <td>0.166667</td>\n",
              "      <td>1.604781</td>\n",
              "      <td>0.008959</td>\n",
              "      <td>1.075372</td>\n",
              "    </tr>\n",
              "    <tr>\n",
              "      <th>11</th>\n",
              "      <td>(Cake)</td>\n",
              "      <td>(Tea)</td>\n",
              "      <td>0.103856</td>\n",
              "      <td>0.142631</td>\n",
              "      <td>0.023772</td>\n",
              "      <td>0.228891</td>\n",
              "      <td>1.604781</td>\n",
              "      <td>0.008959</td>\n",
              "      <td>1.111865</td>\n",
              "    </tr>\n",
              "    <tr>\n",
              "      <th>31</th>\n",
              "      <td>(Toast)</td>\n",
              "      <td>(Coffee)</td>\n",
              "      <td>0.033597</td>\n",
              "      <td>0.478394</td>\n",
              "      <td>0.023666</td>\n",
              "      <td>0.704403</td>\n",
              "      <td>1.472431</td>\n",
              "      <td>0.007593</td>\n",
              "      <td>1.764582</td>\n",
              "    </tr>\n",
              "    <tr>\n",
              "      <th>30</th>\n",
              "      <td>(Coffee)</td>\n",
              "      <td>(Toast)</td>\n",
              "      <td>0.478394</td>\n",
              "      <td>0.033597</td>\n",
              "      <td>0.023666</td>\n",
              "      <td>0.049470</td>\n",
              "      <td>1.472431</td>\n",
              "      <td>0.007593</td>\n",
              "      <td>1.016699</td>\n",
              "    </tr>\n",
              "    <tr>\n",
              "      <th>37</th>\n",
              "      <td>(Pastry)</td>\n",
              "      <td>(Bread, Coffee)</td>\n",
              "      <td>0.086107</td>\n",
              "      <td>0.090016</td>\n",
              "      <td>0.011199</td>\n",
              "      <td>0.130061</td>\n",
              "      <td>1.444872</td>\n",
              "      <td>0.003448</td>\n",
              "      <td>1.046033</td>\n",
              "    </tr>\n",
              "    <tr>\n",
              "      <th>36</th>\n",
              "      <td>(Bread, Coffee)</td>\n",
              "      <td>(Pastry)</td>\n",
              "      <td>0.090016</td>\n",
              "      <td>0.086107</td>\n",
              "      <td>0.011199</td>\n",
              "      <td>0.124413</td>\n",
              "      <td>1.444872</td>\n",
              "      <td>0.003448</td>\n",
              "      <td>1.043749</td>\n",
              "    </tr>\n",
              "    <tr>\n",
              "      <th>33</th>\n",
              "      <td>(Sandwich)</td>\n",
              "      <td>(Tea)</td>\n",
              "      <td>0.071844</td>\n",
              "      <td>0.142631</td>\n",
              "      <td>0.014369</td>\n",
              "      <td>0.200000</td>\n",
              "      <td>1.402222</td>\n",
              "      <td>0.004122</td>\n",
              "      <td>1.071712</td>\n",
              "    </tr>\n",
              "    <tr>\n",
              "      <th>32</th>\n",
              "      <td>(Tea)</td>\n",
              "      <td>(Sandwich)</td>\n",
              "      <td>0.142631</td>\n",
              "      <td>0.071844</td>\n",
              "      <td>0.014369</td>\n",
              "      <td>0.100741</td>\n",
              "      <td>1.402222</td>\n",
              "      <td>0.004122</td>\n",
              "      <td>1.032134</td>\n",
              "    </tr>\n",
              "    <tr>\n",
              "      <th>40</th>\n",
              "      <td>(Tea)</td>\n",
              "      <td>(Cake, Coffee)</td>\n",
              "      <td>0.142631</td>\n",
              "      <td>0.054728</td>\n",
              "      <td>0.010037</td>\n",
              "      <td>0.070370</td>\n",
              "      <td>1.285822</td>\n",
              "      <td>0.002231</td>\n",
              "      <td>1.016827</td>\n",
              "    </tr>\n",
              "    <tr>\n",
              "      <th>39</th>\n",
              "      <td>(Cake, Coffee)</td>\n",
              "      <td>(Tea)</td>\n",
              "      <td>0.054728</td>\n",
              "      <td>0.142631</td>\n",
              "      <td>0.010037</td>\n",
              "      <td>0.183398</td>\n",
              "      <td>1.285822</td>\n",
              "      <td>0.002231</td>\n",
              "      <td>1.049923</td>\n",
              "    </tr>\n",
              "    <tr>\n",
              "      <th>29</th>\n",
              "      <td>(Coffee)</td>\n",
              "      <td>(Spanish Brunch)</td>\n",
              "      <td>0.478394</td>\n",
              "      <td>0.018172</td>\n",
              "      <td>0.010882</td>\n",
              "      <td>0.022747</td>\n",
              "      <td>1.251766</td>\n",
              "      <td>0.002189</td>\n",
              "      <td>1.004682</td>\n",
              "    </tr>\n",
              "    <tr>\n",
              "      <th>28</th>\n",
              "      <td>(Spanish Brunch)</td>\n",
              "      <td>(Coffee)</td>\n",
              "      <td>0.018172</td>\n",
              "      <td>0.478394</td>\n",
              "      <td>0.010882</td>\n",
              "      <td>0.598837</td>\n",
              "      <td>1.251766</td>\n",
              "      <td>0.002189</td>\n",
              "      <td>1.300235</td>\n",
              "    </tr>\n",
              "    <tr>\n",
              "      <th>18</th>\n",
              "      <td>(Medialuna)</td>\n",
              "      <td>(Coffee)</td>\n",
              "      <td>0.061807</td>\n",
              "      <td>0.478394</td>\n",
              "      <td>0.035182</td>\n",
              "      <td>0.569231</td>\n",
              "      <td>1.189878</td>\n",
              "      <td>0.005614</td>\n",
              "      <td>1.210871</td>\n",
              "    </tr>\n",
              "    <tr>\n",
              "      <th>19</th>\n",
              "      <td>(Coffee)</td>\n",
              "      <td>(Medialuna)</td>\n",
              "      <td>0.478394</td>\n",
              "      <td>0.061807</td>\n",
              "      <td>0.035182</td>\n",
              "      <td>0.073542</td>\n",
              "      <td>1.189878</td>\n",
              "      <td>0.005614</td>\n",
              "      <td>1.012667</td>\n",
              "    </tr>\n",
              "    <tr>\n",
              "      <th>23</th>\n",
              "      <td>(Pastry)</td>\n",
              "      <td>(Coffee)</td>\n",
              "      <td>0.086107</td>\n",
              "      <td>0.478394</td>\n",
              "      <td>0.047544</td>\n",
              "      <td>0.552147</td>\n",
              "      <td>1.154168</td>\n",
              "      <td>0.006351</td>\n",
              "      <td>1.164682</td>\n",
              "    </tr>\n",
              "    <tr>\n",
              "      <th>22</th>\n",
              "      <td>(Coffee)</td>\n",
              "      <td>(Pastry)</td>\n",
              "      <td>0.478394</td>\n",
              "      <td>0.086107</td>\n",
              "      <td>0.047544</td>\n",
              "      <td>0.099382</td>\n",
              "      <td>1.154168</td>\n",
              "      <td>0.006351</td>\n",
              "      <td>1.014740</td>\n",
              "    </tr>\n",
              "  </tbody>\n",
              "</table>\n",
              "</div>"
            ],
            "text/plain": [
              "         antecedents       consequents  ...  leverage  conviction\n",
              "41            (Cake)     (Tea, Coffee)  ...  0.004858    1.051779\n",
              "38     (Tea, Coffee)            (Cake)  ...  0.004858    1.121962\n",
              "9             (Cake)   (Hot chocolate)  ...  0.005354    1.057910\n",
              "8    (Hot chocolate)            (Cake)  ...  0.005354    1.114125\n",
              "10             (Tea)            (Cake)  ...  0.008959    1.075372\n",
              "11            (Cake)             (Tea)  ...  0.008959    1.111865\n",
              "31           (Toast)          (Coffee)  ...  0.007593    1.764582\n",
              "30          (Coffee)           (Toast)  ...  0.007593    1.016699\n",
              "37          (Pastry)   (Bread, Coffee)  ...  0.003448    1.046033\n",
              "36   (Bread, Coffee)          (Pastry)  ...  0.003448    1.043749\n",
              "33        (Sandwich)             (Tea)  ...  0.004122    1.071712\n",
              "32             (Tea)        (Sandwich)  ...  0.004122    1.032134\n",
              "40             (Tea)    (Cake, Coffee)  ...  0.002231    1.016827\n",
              "39    (Cake, Coffee)             (Tea)  ...  0.002231    1.049923\n",
              "29          (Coffee)  (Spanish Brunch)  ...  0.002189    1.004682\n",
              "28  (Spanish Brunch)          (Coffee)  ...  0.002189    1.300235\n",
              "18       (Medialuna)          (Coffee)  ...  0.005614    1.210871\n",
              "19          (Coffee)       (Medialuna)  ...  0.005614    1.012667\n",
              "23          (Pastry)          (Coffee)  ...  0.006351    1.164682\n",
              "22          (Coffee)          (Pastry)  ...  0.006351    1.014740\n",
              "\n",
              "[20 rows x 9 columns]"
            ]
          },
          "metadata": {
            "tags": []
          },
          "execution_count": 88
        }
      ]
    },
    {
      "cell_type": "markdown",
      "metadata": {
        "id": "5dSOLy47KDdm"
      },
      "source": [
        "Yalnızca güvenin %50'ye eşit veya daha büyük olduğu kuralları görmek istiyoruz, bu nedenle:"
      ]
    },
    {
      "cell_type": "code",
      "metadata": {
        "id": "hgsp8kQFX8kv",
        "colab": {
          "base_uri": "https://localhost:8080/",
          "height": 385
        },
        "outputId": "8bdfc430-69e7-47b9-e22d-535c3e59da4c"
      },
      "source": [
        "rules[ (rules['lift'] >= 1) & (rules['confidence'] >= 0.5)]"
      ],
      "execution_count": null,
      "outputs": [
        {
          "output_type": "execute_result",
          "data": {
            "text/html": [
              "<div>\n",
              "<style scoped>\n",
              "    .dataframe tbody tr th:only-of-type {\n",
              "        vertical-align: middle;\n",
              "    }\n",
              "\n",
              "    .dataframe tbody tr th {\n",
              "        vertical-align: top;\n",
              "    }\n",
              "\n",
              "    .dataframe thead th {\n",
              "        text-align: right;\n",
              "    }\n",
              "</style>\n",
              "<table border=\"1\" class=\"dataframe\">\n",
              "  <thead>\n",
              "    <tr style=\"text-align: right;\">\n",
              "      <th></th>\n",
              "      <th>antecedents</th>\n",
              "      <th>consequents</th>\n",
              "      <th>antecedent support</th>\n",
              "      <th>consequent support</th>\n",
              "      <th>support</th>\n",
              "      <th>confidence</th>\n",
              "      <th>lift</th>\n",
              "      <th>leverage</th>\n",
              "      <th>conviction</th>\n",
              "    </tr>\n",
              "  </thead>\n",
              "  <tbody>\n",
              "    <tr>\n",
              "      <th>31</th>\n",
              "      <td>(Toast)</td>\n",
              "      <td>(Coffee)</td>\n",
              "      <td>0.033597</td>\n",
              "      <td>0.478394</td>\n",
              "      <td>0.023666</td>\n",
              "      <td>0.704403</td>\n",
              "      <td>1.472431</td>\n",
              "      <td>0.007593</td>\n",
              "      <td>1.764582</td>\n",
              "    </tr>\n",
              "    <tr>\n",
              "      <th>28</th>\n",
              "      <td>(Spanish Brunch)</td>\n",
              "      <td>(Coffee)</td>\n",
              "      <td>0.018172</td>\n",
              "      <td>0.478394</td>\n",
              "      <td>0.010882</td>\n",
              "      <td>0.598837</td>\n",
              "      <td>1.251766</td>\n",
              "      <td>0.002189</td>\n",
              "      <td>1.300235</td>\n",
              "    </tr>\n",
              "    <tr>\n",
              "      <th>18</th>\n",
              "      <td>(Medialuna)</td>\n",
              "      <td>(Coffee)</td>\n",
              "      <td>0.061807</td>\n",
              "      <td>0.478394</td>\n",
              "      <td>0.035182</td>\n",
              "      <td>0.569231</td>\n",
              "      <td>1.189878</td>\n",
              "      <td>0.005614</td>\n",
              "      <td>1.210871</td>\n",
              "    </tr>\n",
              "    <tr>\n",
              "      <th>23</th>\n",
              "      <td>(Pastry)</td>\n",
              "      <td>(Coffee)</td>\n",
              "      <td>0.086107</td>\n",
              "      <td>0.478394</td>\n",
              "      <td>0.047544</td>\n",
              "      <td>0.552147</td>\n",
              "      <td>1.154168</td>\n",
              "      <td>0.006351</td>\n",
              "      <td>1.164682</td>\n",
              "    </tr>\n",
              "    <tr>\n",
              "      <th>0</th>\n",
              "      <td>(Alfajores)</td>\n",
              "      <td>(Coffee)</td>\n",
              "      <td>0.036344</td>\n",
              "      <td>0.478394</td>\n",
              "      <td>0.019651</td>\n",
              "      <td>0.540698</td>\n",
              "      <td>1.130235</td>\n",
              "      <td>0.002264</td>\n",
              "      <td>1.135648</td>\n",
              "    </tr>\n",
              "    <tr>\n",
              "      <th>16</th>\n",
              "      <td>(Juice)</td>\n",
              "      <td>(Coffee)</td>\n",
              "      <td>0.038563</td>\n",
              "      <td>0.478394</td>\n",
              "      <td>0.020602</td>\n",
              "      <td>0.534247</td>\n",
              "      <td>1.116750</td>\n",
              "      <td>0.002154</td>\n",
              "      <td>1.119919</td>\n",
              "    </tr>\n",
              "    <tr>\n",
              "      <th>25</th>\n",
              "      <td>(Sandwich)</td>\n",
              "      <td>(Coffee)</td>\n",
              "      <td>0.071844</td>\n",
              "      <td>0.478394</td>\n",
              "      <td>0.038246</td>\n",
              "      <td>0.532353</td>\n",
              "      <td>1.112792</td>\n",
              "      <td>0.003877</td>\n",
              "      <td>1.115384</td>\n",
              "    </tr>\n",
              "    <tr>\n",
              "      <th>6</th>\n",
              "      <td>(Cake)</td>\n",
              "      <td>(Coffee)</td>\n",
              "      <td>0.103856</td>\n",
              "      <td>0.478394</td>\n",
              "      <td>0.054728</td>\n",
              "      <td>0.526958</td>\n",
              "      <td>1.101515</td>\n",
              "      <td>0.005044</td>\n",
              "      <td>1.102664</td>\n",
              "    </tr>\n",
              "    <tr>\n",
              "      <th>26</th>\n",
              "      <td>(Scone)</td>\n",
              "      <td>(Coffee)</td>\n",
              "      <td>0.034548</td>\n",
              "      <td>0.478394</td>\n",
              "      <td>0.018067</td>\n",
              "      <td>0.522936</td>\n",
              "      <td>1.093107</td>\n",
              "      <td>0.001539</td>\n",
              "      <td>1.093366</td>\n",
              "    </tr>\n",
              "    <tr>\n",
              "      <th>12</th>\n",
              "      <td>(Cookies)</td>\n",
              "      <td>(Coffee)</td>\n",
              "      <td>0.054411</td>\n",
              "      <td>0.478394</td>\n",
              "      <td>0.028209</td>\n",
              "      <td>0.518447</td>\n",
              "      <td>1.083723</td>\n",
              "      <td>0.002179</td>\n",
              "      <td>1.083174</td>\n",
              "    </tr>\n",
              "    <tr>\n",
              "      <th>14</th>\n",
              "      <td>(Hot chocolate)</td>\n",
              "      <td>(Coffee)</td>\n",
              "      <td>0.058320</td>\n",
              "      <td>0.478394</td>\n",
              "      <td>0.029583</td>\n",
              "      <td>0.507246</td>\n",
              "      <td>1.060311</td>\n",
              "      <td>0.001683</td>\n",
              "      <td>1.058553</td>\n",
              "    </tr>\n",
              "  </tbody>\n",
              "</table>\n",
              "</div>"
            ],
            "text/plain": [
              "         antecedents consequents  ...  leverage  conviction\n",
              "31           (Toast)    (Coffee)  ...  0.007593    1.764582\n",
              "28  (Spanish Brunch)    (Coffee)  ...  0.002189    1.300235\n",
              "18       (Medialuna)    (Coffee)  ...  0.005614    1.210871\n",
              "23          (Pastry)    (Coffee)  ...  0.006351    1.164682\n",
              "0        (Alfajores)    (Coffee)  ...  0.002264    1.135648\n",
              "16           (Juice)    (Coffee)  ...  0.002154    1.119919\n",
              "25        (Sandwich)    (Coffee)  ...  0.003877    1.115384\n",
              "6             (Cake)    (Coffee)  ...  0.005044    1.102664\n",
              "26           (Scone)    (Coffee)  ...  0.001539    1.093366\n",
              "12         (Cookies)    (Coffee)  ...  0.002179    1.083174\n",
              "14   (Hot chocolate)    (Coffee)  ...  0.001683    1.058553\n",
              "\n",
              "[11 rows x 9 columns]"
            ]
          },
          "metadata": {
            "tags": []
          },
          "execution_count": 89
        }
      ]
    },
    {
      "cell_type": "markdown",
      "metadata": {
        "id": "rW83gLt9KKD3"
      },
      "source": [
        "Örneğin son kuraldan tost ve kahvenin genellikle birlikte satın alındığını görebiliriz. Bu mantıklı çünkü tost satın alan insanlar onunla kahve içmek istiyor.\n",
        "\n",
        "\n",
        "Bu kuralın destek değeri 0.023666'dır. Bu sayı, tost içeren işlem sayısının toplam işlem sayısına bölünmesiyle hesaplanır. Kuralın güven düzeyi 0.704403 olup, tost içeren tüm işlemlerden %70,44'ünün kahve de içerdiğini göstermektedir. Son olarak, 1,47'lik artış bize, kahve satışının varsayılan olasılığına kıyasla, tost satın alan müşteriler tarafından kahve satın alma olasılığının 1,47 kat daha fazla olduğunu söylüyor."
      ]
    }
  ]
}